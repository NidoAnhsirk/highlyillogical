{
  "nbformat": 4,
  "nbformat_minor": 0,
  "metadata": {
    "colab": {
      "name": "Statistical NLP_R8_Project1.ipynb",
      "provenance": [],
      "authorship_tag": "ABX9TyOeWW3/uiB/JLdwEN/Zp4z2",
      "include_colab_link": true
    },
    "kernelspec": {
      "name": "python3",
      "display_name": "Python 3"
    }
  },
  "cells": [
    {
      "cell_type": "markdown",
      "metadata": {
        "id": "view-in-github",
        "colab_type": "text"
      },
      "source": [
        "<a href=\"https://colab.research.google.com/github/GreatLearningAIML1/delhi-may19-batch-sharma-chandan/blob/master/Statistical_NLP_R8_Project1.ipynb\" target=\"_parent\"><img src=\"https://colab.research.google.com/assets/colab-badge.svg\" alt=\"Open In Colab\"/></a>"
      ]
    },
    {
      "cell_type": "markdown",
      "metadata": {
        "id": "uRi3fCzeyeYX",
        "colab_type": "text"
      },
      "source": [
        "**Project Description**\n",
        "\n",
        "Classification is probably the most popular task that you would deal with in real life.Text in the form of blogs, posts, articles, etc. is written every second. It is a challenge to predict the information about the writer without knowing about him/her. We are going to create a classifier that predicts multiple features of the author of a given text.We have designed it as a Multilabel classification problem.\n",
        "\n",
        "**Dataset**\n",
        "\n",
        "Blog Authorship Corpus\n",
        "Over 600,000 posts from more than 19 thousand bloggers\n",
        "The Blog Authorship Corpus consists of the collected posts of 19,320 bloggers gathered from blogger.com in August 2004. The corpus incorporates a total of 681,288 posts and over 140 million words - or approximately 35 posts and 7250 words per person. Each blog is presented as a separate file, the name of which indicates a blogger id# and the blogger’s self-provided gender, age, industry, and astrological sign. (All are labeled for gender and age but for many, industry and/or sign is marked as unknown.)\n",
        "\n",
        "All bloggers included in the corpus fall into one of three age groups:\n",
        "\n",
        "8240 \"10s\" blogs (ages 13-17),\n",
        "\n",
        "8086 \"20s\" blogs(ages 23-27)\n",
        "\n",
        "2994 \"30s\" blogs (ages 33-47)\n",
        "\n",
        "For each age group, there is an equal number of male and female bloggers.\n",
        "Each blog in the corpus includes at least 200 occurrences of common English words. All formatting has been stripped with two exceptions. Individual posts within a single blogger are separated by the date of the following post and links within a post are denoted by the label urllink.\n",
        "\n",
        "Link to dataset: https://www.kaggle.com/rtatman/blog-authorship-corpus"
      ]
    },
    {
      "cell_type": "code",
      "metadata": {
        "id": "PtOKUxB3zA9g",
        "colab_type": "code",
        "colab": {}
      },
      "source": [
        "# imports\n",
        "import pandas as pd\n",
        "import numpy as np\n",
        "import re\n",
        "import nltk\n",
        "from nltk.corpus import stopwords\n",
        "from sklearn.model_selection import train_test_split\n",
        "from sklearn.feature_extraction.text import CountVectorizer\n",
        "from sklearn.preprocessing import MultiLabelBinarizer\n",
        "from sklearn.multiclass import OneVsRestClassifier\n",
        "from sklearn.linear_model import LogisticRegression\n",
        "from sklearn.metrics import confusion_matrix, classification_report,f1_score, accuracy_score, recall_score, precision_score\n",
        "from nltk.stem import WordNetLemmatizer"
      ],
      "execution_count": 1,
      "outputs": []
    },
    {
      "cell_type": "markdown",
      "metadata": {
        "id": "gLLaNgzx4REs",
        "colab_type": "text"
      },
      "source": [
        "1. Load the dataset (5 points)\n",
        "a. Tip: As the dataset is large, use fewer rows. Check what is working well on your\n",
        "machine and decide accordingly."
      ]
    },
    {
      "cell_type": "code",
      "metadata": {
        "id": "Y2_2HiyP4UCq",
        "colab_type": "code",
        "colab": {
          "base_uri": "https://localhost:8080/",
          "height": 122
        },
        "outputId": "c804c3e7-98e2-4ca3-cc7e-abf250e804c8"
      },
      "source": [
        "from google.colab import drive\n",
        "drive.mount('/gdrive')"
      ],
      "execution_count": 2,
      "outputs": [
        {
          "output_type": "stream",
          "text": [
            "Go to this URL in a browser: https://accounts.google.com/o/oauth2/auth?client_id=947318989803-6bn6qk8qdgf4n4g3pfee6491hc0brc4i.apps.googleusercontent.com&redirect_uri=urn%3aietf%3awg%3aoauth%3a2.0%3aoob&response_type=code&scope=email%20https%3a%2f%2fwww.googleapis.com%2fauth%2fdocs.test%20https%3a%2f%2fwww.googleapis.com%2fauth%2fdrive%20https%3a%2f%2fwww.googleapis.com%2fauth%2fdrive.photos.readonly%20https%3a%2f%2fwww.googleapis.com%2fauth%2fpeopleapi.readonly\n",
            "\n",
            "Enter your authorization code:\n",
            "··········\n",
            "Mounted at /gdrive\n"
          ],
          "name": "stdout"
        }
      ]
    },
    {
      "cell_type": "code",
      "metadata": {
        "id": "wuDvkPnd5tMH",
        "colab_type": "code",
        "colab": {}
      },
      "source": [
        "!cp /gdrive/My\\ Drive/Colab\\ Notebooks/stat_nlp/blogtext.csv ."
      ],
      "execution_count": 3,
      "outputs": []
    },
    {
      "cell_type": "code",
      "metadata": {
        "id": "aydjWsQd7ixu",
        "colab_type": "code",
        "colab": {
          "base_uri": "https://localhost:8080/",
          "height": 359
        },
        "outputId": "c8f73ac4-e757-4d65-b83c-11156fb1b2be"
      },
      "source": [
        "# Read data \n",
        "corpus_df_sample = pd.read_csv(\"blogtext.csv\",nrows=5000)\n",
        "corpus_df_sample.head(10)\n"
      ],
      "execution_count": 38,
      "outputs": [
        {
          "output_type": "execute_result",
          "data": {
            "text/html": [
              "<div>\n",
              "<style scoped>\n",
              "    .dataframe tbody tr th:only-of-type {\n",
              "        vertical-align: middle;\n",
              "    }\n",
              "\n",
              "    .dataframe tbody tr th {\n",
              "        vertical-align: top;\n",
              "    }\n",
              "\n",
              "    .dataframe thead th {\n",
              "        text-align: right;\n",
              "    }\n",
              "</style>\n",
              "<table border=\"1\" class=\"dataframe\">\n",
              "  <thead>\n",
              "    <tr style=\"text-align: right;\">\n",
              "      <th></th>\n",
              "      <th>id</th>\n",
              "      <th>gender</th>\n",
              "      <th>age</th>\n",
              "      <th>topic</th>\n",
              "      <th>sign</th>\n",
              "      <th>date</th>\n",
              "      <th>text</th>\n",
              "    </tr>\n",
              "  </thead>\n",
              "  <tbody>\n",
              "    <tr>\n",
              "      <th>0</th>\n",
              "      <td>2059027</td>\n",
              "      <td>male</td>\n",
              "      <td>15</td>\n",
              "      <td>Student</td>\n",
              "      <td>Leo</td>\n",
              "      <td>14,May,2004</td>\n",
              "      <td>Info has been found (+/- 100 pages,...</td>\n",
              "    </tr>\n",
              "    <tr>\n",
              "      <th>1</th>\n",
              "      <td>2059027</td>\n",
              "      <td>male</td>\n",
              "      <td>15</td>\n",
              "      <td>Student</td>\n",
              "      <td>Leo</td>\n",
              "      <td>13,May,2004</td>\n",
              "      <td>These are the team members:   Drewe...</td>\n",
              "    </tr>\n",
              "    <tr>\n",
              "      <th>2</th>\n",
              "      <td>2059027</td>\n",
              "      <td>male</td>\n",
              "      <td>15</td>\n",
              "      <td>Student</td>\n",
              "      <td>Leo</td>\n",
              "      <td>12,May,2004</td>\n",
              "      <td>In het kader van kernfusie op aarde...</td>\n",
              "    </tr>\n",
              "    <tr>\n",
              "      <th>3</th>\n",
              "      <td>2059027</td>\n",
              "      <td>male</td>\n",
              "      <td>15</td>\n",
              "      <td>Student</td>\n",
              "      <td>Leo</td>\n",
              "      <td>12,May,2004</td>\n",
              "      <td>testing!!!  testing!!!</td>\n",
              "    </tr>\n",
              "    <tr>\n",
              "      <th>4</th>\n",
              "      <td>3581210</td>\n",
              "      <td>male</td>\n",
              "      <td>33</td>\n",
              "      <td>InvestmentBanking</td>\n",
              "      <td>Aquarius</td>\n",
              "      <td>11,June,2004</td>\n",
              "      <td>Thanks to Yahoo!'s Toolbar I can ...</td>\n",
              "    </tr>\n",
              "    <tr>\n",
              "      <th>5</th>\n",
              "      <td>3581210</td>\n",
              "      <td>male</td>\n",
              "      <td>33</td>\n",
              "      <td>InvestmentBanking</td>\n",
              "      <td>Aquarius</td>\n",
              "      <td>10,June,2004</td>\n",
              "      <td>I had an interesting conversation...</td>\n",
              "    </tr>\n",
              "    <tr>\n",
              "      <th>6</th>\n",
              "      <td>3581210</td>\n",
              "      <td>male</td>\n",
              "      <td>33</td>\n",
              "      <td>InvestmentBanking</td>\n",
              "      <td>Aquarius</td>\n",
              "      <td>10,June,2004</td>\n",
              "      <td>Somehow Coca-Cola has a way of su...</td>\n",
              "    </tr>\n",
              "    <tr>\n",
              "      <th>7</th>\n",
              "      <td>3581210</td>\n",
              "      <td>male</td>\n",
              "      <td>33</td>\n",
              "      <td>InvestmentBanking</td>\n",
              "      <td>Aquarius</td>\n",
              "      <td>10,June,2004</td>\n",
              "      <td>If anything, Korea is a country o...</td>\n",
              "    </tr>\n",
              "    <tr>\n",
              "      <th>8</th>\n",
              "      <td>3581210</td>\n",
              "      <td>male</td>\n",
              "      <td>33</td>\n",
              "      <td>InvestmentBanking</td>\n",
              "      <td>Aquarius</td>\n",
              "      <td>10,June,2004</td>\n",
              "      <td>Take a read of this news article ...</td>\n",
              "    </tr>\n",
              "    <tr>\n",
              "      <th>9</th>\n",
              "      <td>3581210</td>\n",
              "      <td>male</td>\n",
              "      <td>33</td>\n",
              "      <td>InvestmentBanking</td>\n",
              "      <td>Aquarius</td>\n",
              "      <td>09,June,2004</td>\n",
              "      <td>I surf the English news sites a l...</td>\n",
              "    </tr>\n",
              "  </tbody>\n",
              "</table>\n",
              "</div>"
            ],
            "text/plain": [
              "        id  ...                                               text\n",
              "0  2059027  ...             Info has been found (+/- 100 pages,...\n",
              "1  2059027  ...             These are the team members:   Drewe...\n",
              "2  2059027  ...             In het kader van kernfusie op aarde...\n",
              "3  2059027  ...                   testing!!!  testing!!!          \n",
              "4  3581210  ...               Thanks to Yahoo!'s Toolbar I can ...\n",
              "5  3581210  ...               I had an interesting conversation...\n",
              "6  3581210  ...               Somehow Coca-Cola has a way of su...\n",
              "7  3581210  ...               If anything, Korea is a country o...\n",
              "8  3581210  ...               Take a read of this news article ...\n",
              "9  3581210  ...               I surf the English news sites a l...\n",
              "\n",
              "[10 rows x 7 columns]"
            ]
          },
          "metadata": {
            "tags": []
          },
          "execution_count": 38
        }
      ]
    },
    {
      "cell_type": "markdown",
      "metadata": {
        "id": "uG7zbBQu8NgZ",
        "colab_type": "text"
      },
      "source": [
        "2. Preprocess rows of the “text” column (7.5 points)\n",
        "\n",
        "    a. Remove unwanted characters\n",
        "\n",
        "    b. Convert text to lowercase\n",
        "\n",
        "    c. Remove unwanted spaces\n",
        "\n",
        "    d. Remove stopwords\n"
      ]
    },
    {
      "cell_type": "code",
      "metadata": {
        "id": "Jl1ZXcIb8GAf",
        "colab_type": "code",
        "colab": {
          "base_uri": "https://localhost:8080/",
          "height": 35
        },
        "outputId": "a7a42f56-f333-4584-84f8-082c2ea432f1"
      },
      "source": [
        "#Removing unwanted / special characters\n",
        "corpus_df_sample['text'] = corpus_df_sample['text'].str.replace('[^A-Za-z]',' ')\n",
        "corpus_df_sample[\"text\"].loc[0]"
      ],
      "execution_count": 39,
      "outputs": [
        {
          "output_type": "execute_result",
          "data": {
            "application/vnd.google.colaboratory.intrinsic": {
              "type": "string"
            },
            "text/plain": [
              "'           Info has been found          pages  and     MB of  pdf files  Now i have to wait untill our team leader has processed it and learns html          '"
            ]
          },
          "metadata": {
            "tags": []
          },
          "execution_count": 39
        }
      ]
    },
    {
      "cell_type": "code",
      "metadata": {
        "id": "YJcGplPj8kph",
        "colab_type": "code",
        "colab": {
          "base_uri": "https://localhost:8080/",
          "height": 35
        },
        "outputId": "58a777d6-f5ce-45e2-9b31-669559253ee3"
      },
      "source": [
        "# Coverting to lower case\n",
        "corpus_df_sample['text'] = corpus_df_sample['text'].str.lower()\n",
        "corpus_df_sample[\"text\"].loc[0]"
      ],
      "execution_count": 40,
      "outputs": [
        {
          "output_type": "execute_result",
          "data": {
            "application/vnd.google.colaboratory.intrinsic": {
              "type": "string"
            },
            "text/plain": [
              "'           info has been found          pages  and     mb of  pdf files  now i have to wait untill our team leader has processed it and learns html          '"
            ]
          },
          "metadata": {
            "tags": []
          },
          "execution_count": 40
        }
      ]
    },
    {
      "cell_type": "code",
      "metadata": {
        "id": "Sjt_OwKR8sUw",
        "colab_type": "code",
        "colab": {
          "base_uri": "https://localhost:8080/",
          "height": 35
        },
        "outputId": "25843072-78ec-417f-dec4-916d7c00e6e4"
      },
      "source": [
        "#Removing spaces\n",
        "corpus_df_sample[\"text\"] = corpus_df_sample[\"text\"].str.strip()\n",
        "corpus_df_sample[\"text\"].loc[0]"
      ],
      "execution_count": 41,
      "outputs": [
        {
          "output_type": "execute_result",
          "data": {
            "application/vnd.google.colaboratory.intrinsic": {
              "type": "string"
            },
            "text/plain": [
              "'info has been found          pages  and     mb of  pdf files  now i have to wait untill our team leader has processed it and learns html'"
            ]
          },
          "metadata": {
            "tags": []
          },
          "execution_count": 41
        }
      ]
    },
    {
      "cell_type": "code",
      "metadata": {
        "id": "-CJu8WTc80a2",
        "colab_type": "code",
        "colab": {}
      },
      "source": [
        "corpus_df_sample[\"text\"] = corpus_df_sample[\"text\"].str.split()  # splitting each row of text data into individual words.\n",
        "# So it can be iterated through to remove only stopwords in next steps."
      ],
      "execution_count": 42,
      "outputs": []
    },
    {
      "cell_type": "code",
      "metadata": {
        "id": "bxL6cs-S9E6x",
        "colab_type": "code",
        "colab": {
          "base_uri": "https://localhost:8080/",
          "height": 68
        },
        "outputId": "4266e5bb-4200-417d-f762-f46ec09915c8"
      },
      "source": [
        "#remove stop words\n",
        "import nltk\n",
        "from nltk.corpus import stopwords\n",
        "from nltk.tokenize import word_tokenize\n",
        "nltk.download('stopwords')"
      ],
      "execution_count": 43,
      "outputs": [
        {
          "output_type": "stream",
          "text": [
            "[nltk_data] Downloading package stopwords to /root/nltk_data...\n",
            "[nltk_data]   Package stopwords is already up-to-date!\n"
          ],
          "name": "stdout"
        },
        {
          "output_type": "execute_result",
          "data": {
            "text/plain": [
              "True"
            ]
          },
          "metadata": {
            "tags": []
          },
          "execution_count": 43
        }
      ]
    },
    {
      "cell_type": "code",
      "metadata": {
        "id": "ycDeqam69NDk",
        "colab_type": "code",
        "colab": {}
      },
      "source": [
        "# set of stop words\n",
        "stop = set(stopwords.words('english'))\n",
        "\n",
        "def removestopwords(y):   # Function definition\n",
        " stopwordremoved = [w for w in y if w not in stop]\n",
        " return(\" \".join(stopwordremoved))"
      ],
      "execution_count": 44,
      "outputs": []
    },
    {
      "cell_type": "code",
      "metadata": {
        "id": "46Rq1JSs_bgy",
        "colab_type": "code",
        "colab": {
          "base_uri": "https://localhost:8080/",
          "height": 34
        },
        "outputId": "a3b68c53-28c6-4c7a-c927-5bbab50eb97f"
      },
      "source": [
        "text_column_size = corpus_df_sample[\"text\"].size\n",
        "print(\"text column size :\", text_column_size)\n",
        "\n",
        "# Initialize an empty list to hold the text after stop word removal\n",
        "cleaner_corpus_df_sample_text = []\n",
        "\n",
        "# Loop over each text\n",
        "for i in range( 0, text_column_size):\n",
        "    cleaner_corpus_df_sample_text.append(removestopwords(corpus_df_sample[\"text\"][i]))"
      ],
      "execution_count": 45,
      "outputs": [
        {
          "output_type": "stream",
          "text": [
            "text column size : 5000\n"
          ],
          "name": "stdout"
        }
      ]
    },
    {
      "cell_type": "code",
      "metadata": {
        "id": "y4pTdycD_2WL",
        "colab_type": "code",
        "colab": {
          "base_uri": "https://localhost:8080/",
          "height": 86
        },
        "outputId": "38b12f92-6979-4c86-98c6-4e5afcfe908f"
      },
      "source": [
        "cleaner_corpus_df_sample_text[10]"
      ],
      "execution_count": 46,
      "outputs": [
        {
          "output_type": "execute_result",
          "data": {
            "application/vnd.google.colaboratory.intrinsic": {
              "type": "string"
            },
            "text/plain": [
              "'ah korean language looks difficult first figure read hanguel korea surprisingly easy learn alphabet characters seems easy vocabulary starts oh backwards us sentence structure yikes luckily many options us slow witted foreigners take language course could list urllink joongang article says lot resources urllink well guy motivation jeon ji hyun latest something actually star movies cfs hear means commercial feature positive saw latest movie sunday night hard describe name english version windstruck korean version yeochinso short ne yeojachingu rul sogayhamnida like introduce girlfriend surprisingly titles make sense like website korean english looks quite good actually urllink movie shown theatres subtitles special times info urllink list many theatres seoul click urllink urllink great reason learn korean already married went foreigners well local korean national course korean take picture put urllink movie hof bar update bud mine passed urllink link giordano ad apparently aired korea nothing xxx sensibilities sort'"
            ]
          },
          "metadata": {
            "tags": []
          },
          "execution_count": 46
        }
      ]
    },
    {
      "cell_type": "code",
      "metadata": {
        "id": "vxwwBAye_8JZ",
        "colab_type": "code",
        "colab": {
          "base_uri": "https://localhost:8080/",
          "height": 86
        },
        "outputId": "8ca3b965-af3c-41af-80a6-5268aae29b0f"
      },
      "source": [
        "#Replace text column with cleaner_corpus_df_sample_text \n",
        "corpus_df_sample[\"text\"] = cleaner_corpus_df_sample_text\n",
        "corpus_df_sample[\"text\"][10]"
      ],
      "execution_count": 47,
      "outputs": [
        {
          "output_type": "execute_result",
          "data": {
            "application/vnd.google.colaboratory.intrinsic": {
              "type": "string"
            },
            "text/plain": [
              "'ah korean language looks difficult first figure read hanguel korea surprisingly easy learn alphabet characters seems easy vocabulary starts oh backwards us sentence structure yikes luckily many options us slow witted foreigners take language course could list urllink joongang article says lot resources urllink well guy motivation jeon ji hyun latest something actually star movies cfs hear means commercial feature positive saw latest movie sunday night hard describe name english version windstruck korean version yeochinso short ne yeojachingu rul sogayhamnida like introduce girlfriend surprisingly titles make sense like website korean english looks quite good actually urllink movie shown theatres subtitles special times info urllink list many theatres seoul click urllink urllink great reason learn korean already married went foreigners well local korean national course korean take picture put urllink movie hof bar update bud mine passed urllink link giordano ad apparently aired korea nothing xxx sensibilities sort'"
            ]
          },
          "metadata": {
            "tags": []
          },
          "execution_count": 47
        }
      ]
    },
    {
      "cell_type": "code",
      "metadata": {
        "id": "0s9V8SlUAAl4",
        "colab_type": "code",
        "colab": {
          "base_uri": "https://localhost:8080/",
          "height": 51
        },
        "outputId": "b805e1fe-d581-469c-9764-e25dc1b2b188"
      },
      "source": [
        "#Lemmatization\n",
        "nltk.download('wordnet')\n",
        "w_tokenizer = nltk.tokenize.WhitespaceTokenizer()\n",
        "lemmatizer = nltk.stem.WordNetLemmatizer()\n",
        "\n",
        "def lemmatize_text(text):\n",
        "    lemm = [lemmatizer.lemmatize(w) for w in w_tokenizer.tokenize(text)]\n",
        "    return(\" \".join(lemm)) \n",
        "\n",
        "corpus_df_sample[\"text\"] = corpus_df_sample.text.apply(lemmatize_text)"
      ],
      "execution_count": 48,
      "outputs": [
        {
          "output_type": "stream",
          "text": [
            "[nltk_data] Downloading package wordnet to /root/nltk_data...\n",
            "[nltk_data]   Package wordnet is already up-to-date!\n"
          ],
          "name": "stdout"
        }
      ]
    },
    {
      "cell_type": "code",
      "metadata": {
        "id": "ZkFc4EdA2gfr",
        "colab_type": "code",
        "colab": {
          "base_uri": "https://localhost:8080/",
          "height": 359
        },
        "outputId": "a610abe9-f5f8-42d0-b664-1cd6c2a1b7c0"
      },
      "source": [
        "corpus_df_sample.head(10)"
      ],
      "execution_count": 49,
      "outputs": [
        {
          "output_type": "execute_result",
          "data": {
            "text/html": [
              "<div>\n",
              "<style scoped>\n",
              "    .dataframe tbody tr th:only-of-type {\n",
              "        vertical-align: middle;\n",
              "    }\n",
              "\n",
              "    .dataframe tbody tr th {\n",
              "        vertical-align: top;\n",
              "    }\n",
              "\n",
              "    .dataframe thead th {\n",
              "        text-align: right;\n",
              "    }\n",
              "</style>\n",
              "<table border=\"1\" class=\"dataframe\">\n",
              "  <thead>\n",
              "    <tr style=\"text-align: right;\">\n",
              "      <th></th>\n",
              "      <th>id</th>\n",
              "      <th>gender</th>\n",
              "      <th>age</th>\n",
              "      <th>topic</th>\n",
              "      <th>sign</th>\n",
              "      <th>date</th>\n",
              "      <th>text</th>\n",
              "    </tr>\n",
              "  </thead>\n",
              "  <tbody>\n",
              "    <tr>\n",
              "      <th>0</th>\n",
              "      <td>2059027</td>\n",
              "      <td>male</td>\n",
              "      <td>15</td>\n",
              "      <td>Student</td>\n",
              "      <td>Leo</td>\n",
              "      <td>14,May,2004</td>\n",
              "      <td>info found page mb pdf file wait untill team l...</td>\n",
              "    </tr>\n",
              "    <tr>\n",
              "      <th>1</th>\n",
              "      <td>2059027</td>\n",
              "      <td>male</td>\n",
              "      <td>15</td>\n",
              "      <td>Student</td>\n",
              "      <td>Leo</td>\n",
              "      <td>13,May,2004</td>\n",
              "      <td>team member drewes van der laag urllink mail r...</td>\n",
              "    </tr>\n",
              "    <tr>\n",
              "      <th>2</th>\n",
              "      <td>2059027</td>\n",
              "      <td>male</td>\n",
              "      <td>15</td>\n",
              "      <td>Student</td>\n",
              "      <td>Leo</td>\n",
              "      <td>12,May,2004</td>\n",
              "      <td>het kader van kernfusie op aarde maak je eigen...</td>\n",
              "    </tr>\n",
              "    <tr>\n",
              "      <th>3</th>\n",
              "      <td>2059027</td>\n",
              "      <td>male</td>\n",
              "      <td>15</td>\n",
              "      <td>Student</td>\n",
              "      <td>Leo</td>\n",
              "      <td>12,May,2004</td>\n",
              "      <td>testing testing</td>\n",
              "    </tr>\n",
              "    <tr>\n",
              "      <th>4</th>\n",
              "      <td>3581210</td>\n",
              "      <td>male</td>\n",
              "      <td>33</td>\n",
              "      <td>InvestmentBanking</td>\n",
              "      <td>Aquarius</td>\n",
              "      <td>11,June,2004</td>\n",
              "      <td>thanks yahoo toolbar capture url popups mean s...</td>\n",
              "    </tr>\n",
              "    <tr>\n",
              "      <th>5</th>\n",
              "      <td>3581210</td>\n",
              "      <td>male</td>\n",
              "      <td>33</td>\n",
              "      <td>InvestmentBanking</td>\n",
              "      <td>Aquarius</td>\n",
              "      <td>10,June,2004</td>\n",
              "      <td>interesting conversation dad morning talking k...</td>\n",
              "    </tr>\n",
              "    <tr>\n",
              "      <th>6</th>\n",
              "      <td>3581210</td>\n",
              "      <td>male</td>\n",
              "      <td>33</td>\n",
              "      <td>InvestmentBanking</td>\n",
              "      <td>Aquarius</td>\n",
              "      <td>10,June,2004</td>\n",
              "      <td>somehow coca cola way summing thing well early...</td>\n",
              "    </tr>\n",
              "    <tr>\n",
              "      <th>7</th>\n",
              "      <td>3581210</td>\n",
              "      <td>male</td>\n",
              "      <td>33</td>\n",
              "      <td>InvestmentBanking</td>\n",
              "      <td>Aquarius</td>\n",
              "      <td>10,June,2004</td>\n",
              "      <td>anything korea country extreme everything seem...</td>\n",
              "    </tr>\n",
              "    <tr>\n",
              "      <th>8</th>\n",
              "      <td>3581210</td>\n",
              "      <td>male</td>\n",
              "      <td>33</td>\n",
              "      <td>InvestmentBanking</td>\n",
              "      <td>Aquarius</td>\n",
              "      <td>10,June,2004</td>\n",
              "      <td>take read news article urllink joongang ilbo n...</td>\n",
              "    </tr>\n",
              "    <tr>\n",
              "      <th>9</th>\n",
              "      <td>3581210</td>\n",
              "      <td>male</td>\n",
              "      <td>33</td>\n",
              "      <td>InvestmentBanking</td>\n",
              "      <td>Aquarius</td>\n",
              "      <td>09,June,2004</td>\n",
              "      <td>surf english news site lot looking tidbit kore...</td>\n",
              "    </tr>\n",
              "  </tbody>\n",
              "</table>\n",
              "</div>"
            ],
            "text/plain": [
              "        id  ...                                               text\n",
              "0  2059027  ...  info found page mb pdf file wait untill team l...\n",
              "1  2059027  ...  team member drewes van der laag urllink mail r...\n",
              "2  2059027  ...  het kader van kernfusie op aarde maak je eigen...\n",
              "3  2059027  ...                                    testing testing\n",
              "4  3581210  ...  thanks yahoo toolbar capture url popups mean s...\n",
              "5  3581210  ...  interesting conversation dad morning talking k...\n",
              "6  3581210  ...  somehow coca cola way summing thing well early...\n",
              "7  3581210  ...  anything korea country extreme everything seem...\n",
              "8  3581210  ...  take read news article urllink joongang ilbo n...\n",
              "9  3581210  ...  surf english news site lot looking tidbit kore...\n",
              "\n",
              "[10 rows x 7 columns]"
            ]
          },
          "metadata": {
            "tags": []
          },
          "execution_count": 49
        }
      ]
    },
    {
      "cell_type": "markdown",
      "metadata": {
        "id": "EbehgtVE3UMi",
        "colab_type": "text"
      },
      "source": [
        "3. As we want to make this into a multi-label classification problem, you are required to merge all the label columns together, so that we have all the labels together for a particular sentence (7.5 points)\n",
        "\n",
        "    a. Label columns to merge: “gender”, “age”, “topic”, “sign”\n",
        "    \n",
        "    b. After completing the previous step, there should be only two columns in your dataframe i.e. “text” and “labels” as shown in the below image"
      ]
    },
    {
      "cell_type": "code",
      "metadata": {
        "id": "jThdxmSp3Epk",
        "colab_type": "code",
        "colab": {
          "base_uri": "https://localhost:8080/",
          "height": 34
        },
        "outputId": "b519cb1b-c3d7-407c-ddfd-919fbf3725d9"
      },
      "source": [
        "#name of available columns \n",
        "corpus_df_sample.columns"
      ],
      "execution_count": 50,
      "outputs": [
        {
          "output_type": "execute_result",
          "data": {
            "text/plain": [
              "Index(['id', 'gender', 'age', 'topic', 'sign', 'date', 'text'], dtype='object')"
            ]
          },
          "metadata": {
            "tags": []
          },
          "execution_count": 50
        }
      ]
    },
    {
      "cell_type": "code",
      "metadata": {
        "id": "Afijj5Vm3lkM",
        "colab_type": "code",
        "colab": {
          "base_uri": "https://localhost:8080/",
          "height": 34
        },
        "outputId": "0cdf9c05-b5d8-49a6-8dc1-b0821f8735bb"
      },
      "source": [
        "corpus_df_sample.shape"
      ],
      "execution_count": 51,
      "outputs": [
        {
          "output_type": "execute_result",
          "data": {
            "text/plain": [
              "(5000, 7)"
            ]
          },
          "metadata": {
            "tags": []
          },
          "execution_count": 51
        }
      ]
    },
    {
      "cell_type": "code",
      "metadata": {
        "id": "qgFBe76b3pS0",
        "colab_type": "code",
        "colab": {
          "base_uri": "https://localhost:8080/",
          "height": 111
        },
        "outputId": "978444a4-4d7a-4b0c-c4e5-ea845cefc116"
      },
      "source": [
        "corpus_df_sample.head(2)"
      ],
      "execution_count": 52,
      "outputs": [
        {
          "output_type": "execute_result",
          "data": {
            "text/html": [
              "<div>\n",
              "<style scoped>\n",
              "    .dataframe tbody tr th:only-of-type {\n",
              "        vertical-align: middle;\n",
              "    }\n",
              "\n",
              "    .dataframe tbody tr th {\n",
              "        vertical-align: top;\n",
              "    }\n",
              "\n",
              "    .dataframe thead th {\n",
              "        text-align: right;\n",
              "    }\n",
              "</style>\n",
              "<table border=\"1\" class=\"dataframe\">\n",
              "  <thead>\n",
              "    <tr style=\"text-align: right;\">\n",
              "      <th></th>\n",
              "      <th>id</th>\n",
              "      <th>gender</th>\n",
              "      <th>age</th>\n",
              "      <th>topic</th>\n",
              "      <th>sign</th>\n",
              "      <th>date</th>\n",
              "      <th>text</th>\n",
              "    </tr>\n",
              "  </thead>\n",
              "  <tbody>\n",
              "    <tr>\n",
              "      <th>0</th>\n",
              "      <td>2059027</td>\n",
              "      <td>male</td>\n",
              "      <td>15</td>\n",
              "      <td>Student</td>\n",
              "      <td>Leo</td>\n",
              "      <td>14,May,2004</td>\n",
              "      <td>info found page mb pdf file wait untill team l...</td>\n",
              "    </tr>\n",
              "    <tr>\n",
              "      <th>1</th>\n",
              "      <td>2059027</td>\n",
              "      <td>male</td>\n",
              "      <td>15</td>\n",
              "      <td>Student</td>\n",
              "      <td>Leo</td>\n",
              "      <td>13,May,2004</td>\n",
              "      <td>team member drewes van der laag urllink mail r...</td>\n",
              "    </tr>\n",
              "  </tbody>\n",
              "</table>\n",
              "</div>"
            ],
            "text/plain": [
              "        id  ...                                               text\n",
              "0  2059027  ...  info found page mb pdf file wait untill team l...\n",
              "1  2059027  ...  team member drewes van der laag urllink mail r...\n",
              "\n",
              "[2 rows x 7 columns]"
            ]
          },
          "metadata": {
            "tags": []
          },
          "execution_count": 52
        }
      ]
    },
    {
      "cell_type": "code",
      "metadata": {
        "id": "OkAclQbt3sCD",
        "colab_type": "code",
        "colab": {
          "base_uri": "https://localhost:8080/",
          "height": 204
        },
        "outputId": "205dc732-a132-4da1-d5ad-0e28cd9466e9"
      },
      "source": [
        "# merge 'gender', 'age', 'topic', 'sign'\n",
        "corpus_df_sample['age'] = corpus_df_sample['age'].astype(str)\n",
        "corpus_df_sample['labels'] = corpus_df_sample[['gender','age','topic','sign']].apply(lambda x: ','.join(x), axis = 1) \n",
        "corpus_df_sample_merged = corpus_df_sample.drop(labels = ['date','gender', 'age','topic','sign','id'], axis = 1)\n",
        "corpus_df_sample_merged.head()"
      ],
      "execution_count": 53,
      "outputs": [
        {
          "output_type": "execute_result",
          "data": {
            "text/html": [
              "<div>\n",
              "<style scoped>\n",
              "    .dataframe tbody tr th:only-of-type {\n",
              "        vertical-align: middle;\n",
              "    }\n",
              "\n",
              "    .dataframe tbody tr th {\n",
              "        vertical-align: top;\n",
              "    }\n",
              "\n",
              "    .dataframe thead th {\n",
              "        text-align: right;\n",
              "    }\n",
              "</style>\n",
              "<table border=\"1\" class=\"dataframe\">\n",
              "  <thead>\n",
              "    <tr style=\"text-align: right;\">\n",
              "      <th></th>\n",
              "      <th>text</th>\n",
              "      <th>labels</th>\n",
              "    </tr>\n",
              "  </thead>\n",
              "  <tbody>\n",
              "    <tr>\n",
              "      <th>0</th>\n",
              "      <td>info found page mb pdf file wait untill team l...</td>\n",
              "      <td>male,15,Student,Leo</td>\n",
              "    </tr>\n",
              "    <tr>\n",
              "      <th>1</th>\n",
              "      <td>team member drewes van der laag urllink mail r...</td>\n",
              "      <td>male,15,Student,Leo</td>\n",
              "    </tr>\n",
              "    <tr>\n",
              "      <th>2</th>\n",
              "      <td>het kader van kernfusie op aarde maak je eigen...</td>\n",
              "      <td>male,15,Student,Leo</td>\n",
              "    </tr>\n",
              "    <tr>\n",
              "      <th>3</th>\n",
              "      <td>testing testing</td>\n",
              "      <td>male,15,Student,Leo</td>\n",
              "    </tr>\n",
              "    <tr>\n",
              "      <th>4</th>\n",
              "      <td>thanks yahoo toolbar capture url popups mean s...</td>\n",
              "      <td>male,33,InvestmentBanking,Aquarius</td>\n",
              "    </tr>\n",
              "  </tbody>\n",
              "</table>\n",
              "</div>"
            ],
            "text/plain": [
              "                                                text                              labels\n",
              "0  info found page mb pdf file wait untill team l...                 male,15,Student,Leo\n",
              "1  team member drewes van der laag urllink mail r...                 male,15,Student,Leo\n",
              "2  het kader van kernfusie op aarde maak je eigen...                 male,15,Student,Leo\n",
              "3                                    testing testing                 male,15,Student,Leo\n",
              "4  thanks yahoo toolbar capture url popups mean s...  male,33,InvestmentBanking,Aquarius"
            ]
          },
          "metadata": {
            "tags": []
          },
          "execution_count": 53
        }
      ]
    },
    {
      "cell_type": "code",
      "metadata": {
        "id": "N-S5sLl034e0",
        "colab_type": "code",
        "colab": {
          "base_uri": "https://localhost:8080/",
          "height": 34
        },
        "outputId": "32ddedc1-cb77-447c-ae44-b660287fbde4"
      },
      "source": [
        "corpus_df_sample_merged.shape"
      ],
      "execution_count": 54,
      "outputs": [
        {
          "output_type": "execute_result",
          "data": {
            "text/plain": [
              "(5000, 2)"
            ]
          },
          "metadata": {
            "tags": []
          },
          "execution_count": 54
        }
      ]
    },
    {
      "cell_type": "markdown",
      "metadata": {
        "id": "wlrfH8TO4STo",
        "colab_type": "text"
      },
      "source": [
        "4. Separate features and labels, and split the data into training and testing(5 points)"
      ]
    },
    {
      "cell_type": "code",
      "metadata": {
        "id": "0Kd7BvFW3_41",
        "colab_type": "code",
        "colab": {
          "base_uri": "https://localhost:8080/",
          "height": 85
        },
        "outputId": "5186f669-0da2-431a-9261-831128b0b48d"
      },
      "source": [
        "\n",
        "feature = corpus_df_sample_merged['text']\n",
        "corpus_df_sample_merged['labels'] = corpus_df_sample_merged['labels'].str.lower()\n",
        "labels = corpus_df_sample_merged['labels']\n",
        "X_train, X_test, Y_train, Y_test = train_test_split(feature,labels, test_size = 0.33, random_state = 143)\n",
        "print(Y_train.shape)\n",
        "print(X_train.shape)\n",
        "print(Y_test.shape)\n",
        "print(X_test.shape)"
      ],
      "execution_count": 55,
      "outputs": [
        {
          "output_type": "stream",
          "text": [
            "(3350,)\n",
            "(3350,)\n",
            "(1650,)\n",
            "(1650,)\n"
          ],
          "name": "stdout"
        }
      ]
    },
    {
      "cell_type": "markdown",
      "metadata": {
        "id": "v_2Gyjk34tsp",
        "colab_type": "text"
      },
      "source": [
        "### 5. Vectorize the features (5 points)\n",
        "\n",
        "    a. Create a Bag of Words using count vectorizer\n",
        "\n",
        "        i. Use ngram_range=(1, 2)\n",
        "\n",
        "        ii. Vectorize training and testing features\n",
        "\n",
        "    b. Print the term-document matrix"
      ]
    },
    {
      "cell_type": "code",
      "metadata": {
        "id": "wlrgghmb4XMW",
        "colab_type": "code",
        "colab": {
          "base_uri": "https://localhost:8080/",
          "height": 68
        },
        "outputId": "8ac9b7a8-d6aa-4d6b-afe3-5cca9de4b02f"
      },
      "source": [
        "# Creating Bag of words\n",
        "vectorizer = CountVectorizer(min_df = 2,ngram_range = (1,2),stop_words = \"english\")\n",
        "X_train = vectorizer.fit_transform(X_train)\n",
        "X_test = vectorizer.transform(X_test)\n",
        "print(\"X_train shape & sample\",X_train.shape)\n",
        "X_train[0]"
      ],
      "execution_count": 56,
      "outputs": [
        {
          "output_type": "stream",
          "text": [
            "X_train shape & sample (3350, 27104)\n"
          ],
          "name": "stdout"
        },
        {
          "output_type": "execute_result",
          "data": {
            "text/plain": [
              "<1x27104 sparse matrix of type '<class 'numpy.int64'>'\n",
              "\twith 68 stored elements in Compressed Sparse Row format>"
            ]
          },
          "metadata": {
            "tags": []
          },
          "execution_count": 56
        }
      ]
    },
    {
      "cell_type": "markdown",
      "metadata": {
        "id": "9xD31GaH5HfW",
        "colab_type": "text"
      },
      "source": [
        "### 6. Create a dictionary to get the count of every label i.e. the key will be label name and value will be the total count of the label. (5 points)"
      ]
    },
    {
      "cell_type": "code",
      "metadata": {
        "id": "OHbNtLbP48_m",
        "colab_type": "code",
        "colab": {
          "base_uri": "https://localhost:8080/",
          "height": 1000
        },
        "outputId": "83e78947-ad78-4c32-9fec-27144aff8d7c"
      },
      "source": [
        "vectorizer_labels = CountVectorizer(min_df = 1,ngram_range = (1,1),stop_words = \"english\")\n",
        "labels_vector = vectorizer_labels.fit_transform(labels)\n",
        "vectorizer_labels.vocabulary_"
      ],
      "execution_count": 57,
      "outputs": [
        {
          "output_type": "execute_result",
          "data": {
            "text/plain": [
              "{'14': 0,\n",
              " '15': 1,\n",
              " '16': 2,\n",
              " '17': 3,\n",
              " '23': 4,\n",
              " '24': 5,\n",
              " '25': 6,\n",
              " '26': 7,\n",
              " '27': 8,\n",
              " '33': 9,\n",
              " '34': 10,\n",
              " '35': 11,\n",
              " '36': 12,\n",
              " '37': 13,\n",
              " '39': 14,\n",
              " '41': 15,\n",
              " '42': 16,\n",
              " '44': 17,\n",
              " '45': 18,\n",
              " '46': 19,\n",
              " 'accounting': 20,\n",
              " 'aquarius': 21,\n",
              " 'aries': 22,\n",
              " 'arts': 23,\n",
              " 'automotive': 24,\n",
              " 'banking': 25,\n",
              " 'businessservices': 26,\n",
              " 'cancer': 27,\n",
              " 'capricorn': 28,\n",
              " 'communications': 29,\n",
              " 'consulting': 30,\n",
              " 'education': 31,\n",
              " 'engineering': 32,\n",
              " 'female': 33,\n",
              " 'gemini': 34,\n",
              " 'indunk': 35,\n",
              " 'internet': 36,\n",
              " 'investmentbanking': 37,\n",
              " 'law': 38,\n",
              " 'leo': 39,\n",
              " 'libra': 40,\n",
              " 'libraries': 41,\n",
              " 'male': 42,\n",
              " 'media': 43,\n",
              " 'museums': 44,\n",
              " 'non': 45,\n",
              " 'pisces': 46,\n",
              " 'profit': 47,\n",
              " 'recreation': 48,\n",
              " 'religion': 49,\n",
              " 'sagittarius': 50,\n",
              " 'science': 51,\n",
              " 'scorpio': 52,\n",
              " 'sports': 53,\n",
              " 'student': 54,\n",
              " 'taurus': 55,\n",
              " 'technology': 56,\n",
              " 'virgo': 57}"
            ]
          },
          "metadata": {
            "tags": []
          },
          "execution_count": 57
        }
      ]
    },
    {
      "cell_type": "code",
      "metadata": {
        "id": "AZ-iScZO5ayw",
        "colab_type": "code",
        "colab": {
          "base_uri": "https://localhost:8080/",
          "height": 54
        },
        "outputId": "c95ea27f-4ce5-4dab-ea56-853ae92e3d7e"
      },
      "source": [
        "# Extracing only key value from above dictionary, which contains unique labels. These set of labels will be used as classes in \n",
        "# multilabelbinariser further.\n",
        "label_classes = []  \n",
        "for key in vectorizer_labels.vocabulary_.keys():\n",
        "    label_classes.append(key)\n",
        "    \n",
        "print(sorted(label_classes))"
      ],
      "execution_count": 58,
      "outputs": [
        {
          "output_type": "stream",
          "text": [
            "['14', '15', '16', '17', '23', '24', '25', '26', '27', '33', '34', '35', '36', '37', '39', '41', '42', '44', '45', '46', 'accounting', 'aquarius', 'aries', 'arts', 'automotive', 'banking', 'businessservices', 'cancer', 'capricorn', 'communications', 'consulting', 'education', 'engineering', 'female', 'gemini', 'indunk', 'internet', 'investmentbanking', 'law', 'leo', 'libra', 'libraries', 'male', 'media', 'museums', 'non', 'pisces', 'profit', 'recreation', 'religion', 'sagittarius', 'science', 'scorpio', 'sports', 'student', 'taurus', 'technology', 'virgo']\n"
          ],
          "name": "stdout"
        }
      ]
    },
    {
      "cell_type": "markdown",
      "metadata": {
        "id": "D51slkmP5wGa",
        "colab_type": "text"
      },
      "source": [
        "### 7. Transform the labels - (7.5 points)\n",
        "As we have noticed before, in this task each example can have multiple tags. To deal with\n",
        "such kind of prediction, we need to transform labels in a binary form and the prediction will be\n",
        "a mask of 0s and 1s. For this purpose, it is convenient to use MultiLabelBinarizer from sklearn\n",
        "\n",
        "a. Convert your train and test labels using MultiLabelBinarizer"
      ]
    },
    {
      "cell_type": "code",
      "metadata": {
        "id": "2HfvTDji5rIA",
        "colab_type": "code",
        "colab": {}
      },
      "source": [
        "mlb = MultiLabelBinarizer(classes = label_classes)  # initialising multilabelbinariser with all unique possible classes"
      ],
      "execution_count": 59,
      "outputs": []
    },
    {
      "cell_type": "code",
      "metadata": {
        "id": "_50mHZ-Q54PW",
        "colab_type": "code",
        "colab": {
          "base_uri": "https://localhost:8080/",
          "height": 34
        },
        "outputId": "8c657755-4a6c-4845-fe2a-778015414773"
      },
      "source": [
        "# Converting entire seT of labels into format required by mlb\n",
        "labels = [[\"\".join(re.findall(\"\\w\",f)) for f in lst] for lst in [s.split(\",\") for s in labels]]\n",
        "labels[30]"
      ],
      "execution_count": 60,
      "outputs": [
        {
          "output_type": "execute_result",
          "data": {
            "text/plain": [
              "['male', '33', 'investmentbanking', 'aquarius']"
            ]
          },
          "metadata": {
            "tags": []
          },
          "execution_count": 60
        }
      ]
    },
    {
      "cell_type": "code",
      "metadata": {
        "id": "eFfLCB3Z565Y",
        "colab_type": "code",
        "colab": {
          "base_uri": "https://localhost:8080/",
          "height": 153
        },
        "outputId": "4a32050e-b333-4a34-a3a6-61369d81cc37"
      },
      "source": [
        "labels_trans = mlb.fit(labels) # transforming entire set of lables\n",
        "labels_trans"
      ],
      "execution_count": 61,
      "outputs": [
        {
          "output_type": "execute_result",
          "data": {
            "text/plain": [
              "MultiLabelBinarizer(classes=['male', '15', 'student', 'leo', '33',\n",
              "                             'investmentbanking', 'aquarius', 'female', '14',\n",
              "                             'indunk', 'aries', '25', 'capricorn', '17',\n",
              "                             'gemini', '23', 'non', 'profit', 'cancer',\n",
              "                             'banking', '37', 'sagittarius', '26', '24',\n",
              "                             'scorpio', '27', 'education', '45', 'engineering',\n",
              "                             'libra', ...],\n",
              "                    sparse_output=False)"
            ]
          },
          "metadata": {
            "tags": []
          },
          "execution_count": 61
        }
      ]
    },
    {
      "cell_type": "code",
      "metadata": {
        "id": "MqzMDhWF6SqS",
        "colab_type": "code",
        "colab": {
          "base_uri": "https://localhost:8080/",
          "height": 34
        },
        "outputId": "039aaf25-aa81-4fb2-848a-f39f282e7602"
      },
      "source": [
        "#Convert Y_train into a format as required by mlb \n",
        "Y_train = [[\"\".join(re.findall(\"\\w\",f)) for f in lst] for lst in [s.split(\",\") for s in Y_train]]\n",
        "Y_train[30]"
      ],
      "execution_count": 62,
      "outputs": [
        {
          "output_type": "execute_result",
          "data": {
            "text/plain": [
              "['male', '35', 'technology', 'aries']"
            ]
          },
          "metadata": {
            "tags": []
          },
          "execution_count": 62
        }
      ]
    },
    {
      "cell_type": "code",
      "metadata": {
        "id": "NCNyjZlr6WUx",
        "colab_type": "code",
        "colab": {
          "base_uri": "https://localhost:8080/",
          "height": 102
        },
        "outputId": "6a0751b3-7a62-4b3a-b9cb-f5e137619dae"
      },
      "source": [
        "Y_train_trans = mlb.transform(Y_train) # transforming Train lables using mlb which is trained on all possible unnique labels on entire data set\n",
        "Y_train_trans[30]"
      ],
      "execution_count": 63,
      "outputs": [
        {
          "output_type": "stream",
          "text": [
            "/usr/local/lib/python3.6/dist-packages/sklearn/preprocessing/_label.py:987: UserWarning: unknown class(es) ['communicationsmedia', 'museumslibraries', 'nonprofit', 'sportsrecreation'] will be ignored\n",
            "  .format(sorted(unknown, key=str)))\n"
          ],
          "name": "stderr"
        },
        {
          "output_type": "execute_result",
          "data": {
            "text/plain": [
              "array([1, 0, 0, 0, 0, 0, 0, 0, 0, 0, 1, 0, 0, 0, 0, 0, 0, 0, 0, 0, 0, 0,\n",
              "       0, 0, 0, 0, 0, 0, 0, 0, 0, 0, 0, 0, 0, 0, 0, 0, 0, 0, 0, 0, 0, 0,\n",
              "       0, 0, 0, 0, 0, 1, 1, 0, 0, 0, 0, 0, 0, 0])"
            ]
          },
          "metadata": {
            "tags": []
          },
          "execution_count": 63
        }
      ]
    },
    {
      "cell_type": "code",
      "metadata": {
        "id": "G122Uusl6bOB",
        "colab_type": "code",
        "colab": {
          "base_uri": "https://localhost:8080/",
          "height": 34
        },
        "outputId": "c9b9b670-9704-492b-ec40-95562d3bb672"
      },
      "source": [
        "Y_train_trans.shape"
      ],
      "execution_count": 64,
      "outputs": [
        {
          "output_type": "execute_result",
          "data": {
            "text/plain": [
              "(3350, 58)"
            ]
          },
          "metadata": {
            "tags": []
          },
          "execution_count": 64
        }
      ]
    },
    {
      "cell_type": "code",
      "metadata": {
        "id": "2Oygnvbr6dii",
        "colab_type": "code",
        "colab": {
          "base_uri": "https://localhost:8080/",
          "height": 68
        },
        "outputId": "40ec4658-9805-4d3a-9ba7-17f4c7ae9a5a"
      },
      "source": [
        "#Convert Y_test into a format as required by mlb \n",
        "Y_test = [[\"\".join(re.findall(\"\\w\",f)) for f in lst] for lst in [s.split(\",\") for s in Y_test]]\n",
        "Y_test_trans = mlb.transform(Y_test) # transforming test labels.\n",
        "print(Y_test[30])"
      ],
      "execution_count": 65,
      "outputs": [
        {
          "output_type": "stream",
          "text": [
            "['female', '16', 'indunk', 'leo']\n"
          ],
          "name": "stdout"
        },
        {
          "output_type": "stream",
          "text": [
            "/usr/local/lib/python3.6/dist-packages/sklearn/preprocessing/_label.py:987: UserWarning: unknown class(es) ['communicationsmedia', 'nonprofit', 'sportsrecreation'] will be ignored\n",
            "  .format(sorted(unknown, key=str)))\n"
          ],
          "name": "stderr"
        }
      ]
    },
    {
      "cell_type": "code",
      "metadata": {
        "id": "XMjKwSxE6jbZ",
        "colab_type": "code",
        "colab": {
          "base_uri": "https://localhost:8080/",
          "height": 68
        },
        "outputId": "8ba74d88-7e21-45ab-baf6-4ada51ee054b"
      },
      "source": [
        "Y_test_trans[30]"
      ],
      "execution_count": 66,
      "outputs": [
        {
          "output_type": "execute_result",
          "data": {
            "text/plain": [
              "array([0, 0, 0, 1, 0, 0, 0, 1, 0, 1, 0, 0, 0, 0, 0, 0, 0, 0, 0, 0, 0, 0,\n",
              "       0, 0, 0, 0, 0, 0, 0, 0, 0, 0, 0, 0, 0, 0, 0, 0, 0, 0, 0, 0, 0, 1,\n",
              "       0, 0, 0, 0, 0, 0, 0, 0, 0, 0, 0, 0, 0, 0])"
            ]
          },
          "metadata": {
            "tags": []
          },
          "execution_count": 66
        }
      ]
    },
    {
      "cell_type": "code",
      "metadata": {
        "id": "ljy4WV6w6phh",
        "colab_type": "code",
        "colab": {
          "base_uri": "https://localhost:8080/",
          "height": 34
        },
        "outputId": "89090de6-c3d0-4664-a764-1ac0254f0bb3"
      },
      "source": [
        "len(mlb.classes_)"
      ],
      "execution_count": 67,
      "outputs": [
        {
          "output_type": "execute_result",
          "data": {
            "text/plain": [
              "58"
            ]
          },
          "metadata": {
            "tags": []
          },
          "execution_count": 67
        }
      ]
    },
    {
      "cell_type": "code",
      "metadata": {
        "id": "IVINwF4c6sra",
        "colab_type": "code",
        "colab": {
          "base_uri": "https://localhost:8080/",
          "height": 170
        },
        "outputId": "72399971-dde2-4ebc-cc22-2e994eb01c56"
      },
      "source": [
        "mlb.classes_"
      ],
      "execution_count": 68,
      "outputs": [
        {
          "output_type": "execute_result",
          "data": {
            "text/plain": [
              "array(['male', '15', 'student', 'leo', '33', 'investmentbanking',\n",
              "       'aquarius', 'female', '14', 'indunk', 'aries', '25', 'capricorn',\n",
              "       '17', 'gemini', '23', 'non', 'profit', 'cancer', 'banking', '37',\n",
              "       'sagittarius', '26', '24', 'scorpio', '27', 'education', '45',\n",
              "       'engineering', 'libra', 'science', '34', '41', 'communications',\n",
              "       'media', 'businessservices', 'sports', 'recreation', 'virgo',\n",
              "       'taurus', 'arts', 'pisces', '44', '16', 'internet', 'museums',\n",
              "       'libraries', 'accounting', '39', '35', 'technology', '36', 'law',\n",
              "       '46', 'consulting', 'automotive', '42', 'religion'], dtype=object)"
            ]
          },
          "metadata": {
            "tags": []
          },
          "execution_count": 68
        }
      ]
    },
    {
      "cell_type": "markdown",
      "metadata": {
        "id": "Aukkcj8W6_mN",
        "colab_type": "text"
      },
      "source": [
        "### 8. Choose a classifier - (5 points)\n",
        "In this task, we suggest using the One-vs-Rest approach, which is implemented in\n",
        "OneVsRestClassifier class. In this approach k classifiers (= number of tags) are trained. As a\n",
        "basic classifier, use LogisticRegression . It is one of the simplest methods, but often it\n",
        "performs good enough in text classification tasks. It might take some time because the\n",
        "number of classifiers to train is large.\n",
        "\n",
        "    a. Use a linear classifier of your choice, wrap it up in OneVsRestClassifier to train it on every label"
      ]
    },
    {
      "cell_type": "code",
      "metadata": {
        "id": "rVQKK4By6wcp",
        "colab_type": "code",
        "colab": {}
      },
      "source": [
        "clf = LogisticRegression(solver = 'lbfgs',max_iter = 1000)  # initiating the classifier\n",
        "#from sklearn.svm import SVC\n",
        "#clf = SVC(kernel = \"linear\")\n",
        "clf = OneVsRestClassifier(clf)"
      ],
      "execution_count": 69,
      "outputs": []
    },
    {
      "cell_type": "markdown",
      "metadata": {
        "id": "O1WKVmIY7OWi",
        "colab_type": "text"
      },
      "source": [
        "### 9. Fit the classifier, make predictions and get the accuracy (5 points)\n",
        "\n",
        "  a. Print the following\n",
        "\n",
        "    i. Accuracy score\n",
        "    ii. F1 score\n",
        "    iii. Average precision score\n",
        "    iv. Average recall score"
      ]
    },
    {
      "cell_type": "code",
      "metadata": {
        "id": "pmNdpmqR7Jqa",
        "colab_type": "code",
        "colab": {
          "base_uri": "https://localhost:8080/",
          "height": 459
        },
        "outputId": "c2b15c30-bae9-4bbd-f247-c20fa403f30b"
      },
      "source": [
        "clf.fit(X_train,Y_train_trans) # Fitting on  train data"
      ],
      "execution_count": 70,
      "outputs": [
        {
          "output_type": "stream",
          "text": [
            "/usr/local/lib/python3.6/dist-packages/sklearn/multiclass.py:75: UserWarning: Label not 16 is present in all training examples.\n",
            "  str(classes[c]))\n",
            "/usr/local/lib/python3.6/dist-packages/sklearn/multiclass.py:75: UserWarning: Label not 17 is present in all training examples.\n",
            "  str(classes[c]))\n",
            "/usr/local/lib/python3.6/dist-packages/sklearn/multiclass.py:75: UserWarning: Label not 33 is present in all training examples.\n",
            "  str(classes[c]))\n",
            "/usr/local/lib/python3.6/dist-packages/sklearn/multiclass.py:75: UserWarning: Label not 34 is present in all training examples.\n",
            "  str(classes[c]))\n",
            "/usr/local/lib/python3.6/dist-packages/sklearn/multiclass.py:75: UserWarning: Label not 36 is present in all training examples.\n",
            "  str(classes[c]))\n",
            "/usr/local/lib/python3.6/dist-packages/sklearn/multiclass.py:75: UserWarning: Label not 37 is present in all training examples.\n",
            "  str(classes[c]))\n",
            "/usr/local/lib/python3.6/dist-packages/sklearn/multiclass.py:75: UserWarning: Label not 45 is present in all training examples.\n",
            "  str(classes[c]))\n",
            "/usr/local/lib/python3.6/dist-packages/sklearn/multiclass.py:75: UserWarning: Label not 46 is present in all training examples.\n",
            "  str(classes[c]))\n"
          ],
          "name": "stderr"
        },
        {
          "output_type": "execute_result",
          "data": {
            "text/plain": [
              "OneVsRestClassifier(estimator=LogisticRegression(C=1.0, class_weight=None,\n",
              "                                                 dual=False, fit_intercept=True,\n",
              "                                                 intercept_scaling=1,\n",
              "                                                 l1_ratio=None, max_iter=1000,\n",
              "                                                 multi_class='auto',\n",
              "                                                 n_jobs=None, penalty='l2',\n",
              "                                                 random_state=None,\n",
              "                                                 solver='lbfgs', tol=0.0001,\n",
              "                                                 verbose=0, warm_start=False),\n",
              "                    n_jobs=None)"
            ]
          },
          "metadata": {
            "tags": []
          },
          "execution_count": 70
        }
      ]
    },
    {
      "cell_type": "code",
      "metadata": {
        "id": "3eGBpVsR7g3C",
        "colab_type": "code",
        "colab": {
          "base_uri": "https://localhost:8080/",
          "height": 34
        },
        "outputId": "cbfae8ea-c73f-4914-fa1c-3a93a06043ea"
      },
      "source": [
        "\n",
        "print(\"Train Accuracy:\",clf.score(X_train,Y_train_trans))"
      ],
      "execution_count": 71,
      "outputs": [
        {
          "output_type": "stream",
          "text": [
            "Train Accuracy: 0.9561194029850746\n"
          ],
          "name": "stdout"
        }
      ]
    },
    {
      "cell_type": "code",
      "metadata": {
        "id": "uafWQiSo7r37",
        "colab_type": "code",
        "colab": {}
      },
      "source": [
        "Y_pred = clf.predict(X_test)"
      ],
      "execution_count": 72,
      "outputs": []
    },
    {
      "cell_type": "code",
      "metadata": {
        "id": "Hg0t9H5k7vF8",
        "colab_type": "code",
        "colab": {
          "base_uri": "https://localhost:8080/",
          "height": 238
        },
        "outputId": "7a81b4ed-89c5-4774-8338-8ce1c981d612"
      },
      "source": [
        "print(\"Test Accuracy:\" + str(accuracy_score(Y_test_trans, Y_pred)))\n",
        "print(\"F1: \" + str(f1_score(Y_test_trans, Y_pred, average='micro')))\n",
        "print(\"F1_macro: \" + str(f1_score(Y_test_trans, Y_pred, average='macro')))\n",
        "print(\"Precision: \" + str(precision_score(Y_test_trans, Y_pred, average='micro')))\n",
        "print(\"Precision_macro: \" + str(precision_score(Y_test_trans, Y_pred, average='macro')))\n",
        "print(\"Recall: \" + str(recall_score(Y_test_trans, Y_pred, average='micro')))\n",
        "print(\"Recall_macro: \" + str(recall_score(Y_test_trans, Y_pred, average='macro')))"
      ],
      "execution_count": 73,
      "outputs": [
        {
          "output_type": "stream",
          "text": [
            "Test Accuracy:0.5315151515151515\n",
            "F1: 0.7432240847302143\n",
            "F1_macro: 0.25418706963707105\n",
            "Precision: 0.8188166115398751\n",
            "Precision_macro: 0.42299519494609034\n",
            "Recall: 0.6804092227821041\n",
            "Recall_macro: 0.2056911276465752\n"
          ],
          "name": "stdout"
        },
        {
          "output_type": "stream",
          "text": [
            "/usr/local/lib/python3.6/dist-packages/sklearn/metrics/_classification.py:1515: UndefinedMetricWarning: F-score is ill-defined and being set to 0.0 in labels with no true nor predicted samples. Use `zero_division` parameter to control this behavior.\n",
            "  average, \"true nor predicted\", 'F-score is', len(true_sum)\n",
            "/usr/local/lib/python3.6/dist-packages/sklearn/metrics/_classification.py:1272: UndefinedMetricWarning: Precision is ill-defined and being set to 0.0 in labels with no predicted samples. Use `zero_division` parameter to control this behavior.\n",
            "  _warn_prf(average, modifier, msg_start, len(result))\n",
            "/usr/local/lib/python3.6/dist-packages/sklearn/metrics/_classification.py:1272: UndefinedMetricWarning: Recall is ill-defined and being set to 0.0 in labels with no true samples. Use `zero_division` parameter to control this behavior.\n",
            "  _warn_prf(average, modifier, msg_start, len(result))\n"
          ],
          "name": "stderr"
        }
      ]
    },
    {
      "cell_type": "markdown",
      "metadata": {
        "id": "KL2ThuPm746c",
        "colab_type": "text"
      },
      "source": [
        "### 10. Print true label and predicted label for any five examples (7.5 points)\n"
      ]
    },
    {
      "cell_type": "code",
      "metadata": {
        "id": "SQSmhff1706k",
        "colab_type": "code",
        "colab": {}
      },
      "source": [
        "Y_pred_inv = mlb.inverse_transform(Y_pred)   # inverse transforming predited label data\n",
        "Y_test_trans_inv =  mlb.inverse_transform(Y_test_trans) # inverse transforming original test label data"
      ],
      "execution_count": 74,
      "outputs": []
    },
    {
      "cell_type": "code",
      "metadata": {
        "id": "xsPv2ab48BbU",
        "colab_type": "code",
        "colab": {
          "base_uri": "https://localhost:8080/",
          "height": 68
        },
        "outputId": "9aa8c5ce-d3b6-47bc-feae-bff0264606b7"
      },
      "source": [
        "print(\"Example 1 - predicted :\",Y_pred_inv[10])\n",
        "print(\"Example 1 - Actual :\",Y_test_trans_inv[10])\n",
        "print(\"Example 1 - Actual_before mlb transformation :\",Y_test[10])"
      ],
      "execution_count": 84,
      "outputs": [
        {
          "output_type": "stream",
          "text": [
            "Example 1 - predicted : ('male', 'aries', '35', 'technology')\n",
            "Example 1 - Actual : ('male', 'aries', '35', 'technology')\n",
            "Example 1 - Actual_before mlb transformation : ['male', '35', 'technology', 'aries']\n"
          ],
          "name": "stdout"
        }
      ]
    },
    {
      "cell_type": "code",
      "metadata": {
        "id": "TzmLjrA58D6j",
        "colab_type": "code",
        "colab": {
          "base_uri": "https://localhost:8080/",
          "height": 68
        },
        "outputId": "c4dab726-1011-4cdf-bed4-06f6c54f8472"
      },
      "source": [
        "print(\"Example 2 - predicted :\",Y_pred_inv[320])\n",
        "print(\"Example 2 - Actual :\",Y_test_trans_inv[320])\n",
        "print(\"Example 2 - Actual_before mlb transformation :\",Y_test[320])"
      ],
      "execution_count": 85,
      "outputs": [
        {
          "output_type": "stream",
          "text": [
            "Example 2 - predicted : ('female', 'indunk', 'sagittarius', '34')\n",
            "Example 2 - Actual : ('female', 'indunk', 'sagittarius', '34')\n",
            "Example 2 - Actual_before mlb transformation : ['female', '34', 'indunk', 'sagittarius']\n"
          ],
          "name": "stdout"
        }
      ]
    },
    {
      "cell_type": "code",
      "metadata": {
        "id": "XcMnwzZz8IgU",
        "colab_type": "code",
        "colab": {
          "base_uri": "https://localhost:8080/",
          "height": 68
        },
        "outputId": "5348b729-8690-4aed-c8be-147d709b63cb"
      },
      "source": [
        "print(\"Example 3 - predicted :\",Y_pred_inv[839])\n",
        "print(\"Example 3 - Actual :\",Y_test_trans_inv[839])\n",
        "print(\"Example 3 - Actual_before mlb transformation :\",Y_test[839])"
      ],
      "execution_count": 86,
      "outputs": [
        {
          "output_type": "stream",
          "text": [
            "Example 3 - predicted : ('male', 'aries', '35', 'technology')\n",
            "Example 3 - Actual : ('male', 'aries', '35', 'technology')\n",
            "Example 3 - Actual_before mlb transformation : ['male', '35', 'technology', 'aries']\n"
          ],
          "name": "stdout"
        }
      ]
    },
    {
      "cell_type": "code",
      "metadata": {
        "id": "2sWeiYq08Lql",
        "colab_type": "code",
        "colab": {
          "base_uri": "https://localhost:8080/",
          "height": 68
        },
        "outputId": "68505e99-550d-428e-975b-e18aff5a7054"
      },
      "source": [
        "print(\"Example 4 - predicted :\",Y_pred_inv[300])\n",
        "print(\"Example 4 - Actual :\",Y_test_trans_inv[300])\n",
        "print(\"Example 4 - Actual_before mlb transformation :\",Y_test[300])"
      ],
      "execution_count": 87,
      "outputs": [
        {
          "output_type": "stream",
          "text": [
            "Example 4 - predicted : ('male', 'leo', 'indunk', '26')\n",
            "Example 4 - Actual : ('male', 'leo', 'indunk', '26')\n",
            "Example 4 - Actual_before mlb transformation : ['male', '26', 'indunk', 'leo']\n"
          ],
          "name": "stdout"
        }
      ]
    },
    {
      "cell_type": "code",
      "metadata": {
        "id": "VYRMOX4x8UAs",
        "colab_type": "code",
        "colab": {
          "base_uri": "https://localhost:8080/",
          "height": 68
        },
        "outputId": "73e5bec5-f568-43eb-b701-4d8a779402c4"
      },
      "source": [
        "print(\"Example 5 - predicted :\",Y_pred_inv[1289])\n",
        "print(\"Example 5 - Actual :\",Y_test_trans_inv[1289])\n",
        "print(\"Example 5 - Actual_before mlb transformation :\",Y_test[1289])"
      ],
      "execution_count": 88,
      "outputs": [
        {
          "output_type": "stream",
          "text": [
            "Example 5 - predicted : ('male', 'aries', '35', 'technology')\n",
            "Example 5 - Actual : ('male', 'libra', '39')\n",
            "Example 5 - Actual_before mlb transformation : ['male', '39', 'communicationsmedia', 'libra']\n"
          ],
          "name": "stdout"
        }
      ]
    },
    {
      "cell_type": "code",
      "metadata": {
        "id": "UQmgRDjj8Xt0",
        "colab_type": "code",
        "colab": {}
      },
      "source": [
        ""
      ],
      "execution_count": 88,
      "outputs": []
    }
  ]
}