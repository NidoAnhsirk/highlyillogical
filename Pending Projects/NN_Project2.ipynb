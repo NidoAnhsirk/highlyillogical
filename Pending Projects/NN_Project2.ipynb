{
  "nbformat": 4,
  "nbformat_minor": 0,
  "metadata": {
    "colab": {
      "name": "Project-2-Neural-network.ipynb",
      "provenance": [],
      "collapsed_sections": []
    },
    "kernelspec": {
      "name": "python3",
      "display_name": "Python 3"
    }
  },
  "cells": [
    {
      "cell_type": "markdown",
      "metadata": {
        "id": "4WH1Pr4KQlCh",
        "colab_type": "text"
      },
      "source": [
        "### Build a DNN using Keras with `RELU` and `ADAM`"
      ]
    },
    {
      "cell_type": "markdown",
      "metadata": {
        "id": "TbvI8LqlQlCl",
        "colab_type": "text"
      },
      "source": [
        "#### Load tensorflow"
      ]
    },
    {
      "cell_type": "code",
      "metadata": {
        "id": "SPW-a-qYQlCp",
        "colab_type": "code",
        "outputId": "fabc6b24-1403-4502-9a48-b012cf28b995",
        "colab": {
          "base_uri": "https://localhost:8080/",
          "height": 80
        }
      },
      "source": [
        "import tensorflow as tf\n",
        "print(tf.__version__)"
      ],
      "execution_count": 2,
      "outputs": [
        {
          "output_type": "display_data",
          "data": {
            "text/html": [
              "<p style=\"color: red;\">\n",
              "The default version of TensorFlow in Colab will soon switch to TensorFlow 2.x.<br>\n",
              "We recommend you <a href=\"https://www.tensorflow.org/guide/migrate\" target=\"_blank\">upgrade</a> now \n",
              "or ensure your notebook will continue to use TensorFlow 1.x via the <code>%tensorflow_version 1.x</code> magic:\n",
              "<a href=\"https://colab.research.google.com/notebooks/tensorflow_version.ipynb\" target=\"_blank\">more info</a>.</p>\n"
            ],
            "text/plain": [
              "<IPython.core.display.HTML object>"
            ]
          },
          "metadata": {
            "tags": []
          }
        },
        {
          "output_type": "stream",
          "text": [
            "1.15.0\n"
          ],
          "name": "stdout"
        }
      ]
    },
    {
      "cell_type": "markdown",
      "metadata": {
        "id": "74cQBsi5QlCw",
        "colab_type": "text"
      },
      "source": [
        "#### Collect Fashion mnist data from tf.keras.datasets "
      ]
    },
    {
      "cell_type": "code",
      "metadata": {
        "id": "YBDQz8pzaESo",
        "colab_type": "code",
        "colab": {}
      },
      "source": [
        "from pandas import (\n",
        "    DataFrame, HDFStore\n",
        ")\n",
        "import pandas as pd"
      ],
      "execution_count": 0,
      "outputs": []
    },
    {
      "cell_type": "code",
      "metadata": {
        "id": "Frb4HumKbVtO",
        "colab_type": "code",
        "outputId": "4764ed16-c938-4da4-d089-7cc8a512c7a6",
        "colab": {
          "base_uri": "https://localhost:8080/",
          "height": 34
        }
      },
      "source": [
        "from google.colab import drive\n",
        "drive.mount('/content/drive')"
      ],
      "execution_count": 4,
      "outputs": [
        {
          "output_type": "stream",
          "text": [
            "Mounted at /content/drive\n"
          ],
          "name": "stdout"
        }
      ]
    },
    {
      "cell_type": "code",
      "metadata": {
        "id": "Zqql4aIT_wP8",
        "colab_type": "code",
        "outputId": "649dc710-f756-4bc3-dbad-5119493c1f62",
        "colab": {
          "base_uri": "https://localhost:8080/",
          "height": 34
        }
      },
      "source": [
        "import h5py\n",
        "filename = '/content/drive/My Drive/Colab Notebooks/11-01-2020/SVHN_single_grey1-2.h5'\n",
        "h5 = h5py.File(filename,'r')\n",
        "ls = list(h5)\n",
        "ls"
      ],
      "execution_count": 75,
      "outputs": [
        {
          "output_type": "execute_result",
          "data": {
            "text/plain": [
              "['X_test', 'X_train', 'X_val', 'y_test', 'y_train', 'y_val']"
            ]
          },
          "metadata": {
            "tags": []
          },
          "execution_count": 75
        }
      ]
    },
    {
      "cell_type": "code",
      "metadata": {
        "id": "wVWy0oDTr2Kj",
        "colab_type": "code",
        "outputId": "6beb6cca-89a4-49ee-af03-ce25299354e6",
        "colab": {
          "base_uri": "https://localhost:8080/",
          "height": 119
        }
      },
      "source": [
        "#(trainX, trainY),(testX, testY) = tf.keras.datasets.fashion_mnist.load_data()\n",
        "trainX = h5['X_train'][:]\n",
        "trainY = h5['y_train'][:]\n",
        "testX = h5['X_test'][:]\n",
        "testY = h5['y_test'][:]\n",
        "valX = h5['X_val'][:]\n",
        "valY = h5['y_val'][:]\n",
        "print(\"Shape of trainX: \",trainX.shape)\n",
        "print(\"Shape of trainY: \",trainY.shape)\n",
        "print(\"Shape of testX: \",testX.shape)\n",
        "print(\"Shape of testY: \",testY.shape)\n",
        "print(\"Shape of valX: \",valX.shape)\n",
        "print(\"Shape of valY: \",valY.shape)"
      ],
      "execution_count": 76,
      "outputs": [
        {
          "output_type": "stream",
          "text": [
            "Shape of trainX:  (42000, 32, 32)\n",
            "Shape of trainY:  (42000,)\n",
            "Shape of testX:  (18000, 32, 32)\n",
            "Shape of testY:  (18000,)\n",
            "Shape of valX:  (60000, 32, 32)\n",
            "Shape of valY:  (60000,)\n"
          ],
          "name": "stdout"
        }
      ]
    },
    {
      "cell_type": "markdown",
      "metadata": {
        "id": "no7aWYZyQlC1",
        "colab_type": "text"
      },
      "source": [
        "\n",
        "#### Change train and test labels into one-hot vectors"
      ]
    },
    {
      "cell_type": "code",
      "metadata": {
        "id": "UX6otc4wQlC2",
        "colab_type": "code",
        "colab": {}
      },
      "source": [
        "trainY = tf.keras.utils.to_categorical(trainY, num_classes=10)\n",
        "testY = tf.keras.utils.to_categorical(testY, num_classes=10)\n",
        "valY = tf.keras.utils.to_categorical(valY, num_classes=10)\n",
        "\n"
      ],
      "execution_count": 0,
      "outputs": []
    },
    {
      "cell_type": "markdown",
      "metadata": {
        "id": "QjNrRTdoQlC5",
        "colab_type": "text"
      },
      "source": [
        "#### Build the Graph"
      ]
    },
    {
      "cell_type": "markdown",
      "metadata": {
        "id": "CDJ9DHVNQlC7",
        "colab_type": "text"
      },
      "source": [
        "#### Initialize model, reshape & normalize data"
      ]
    },
    {
      "cell_type": "code",
      "metadata": {
        "id": "pCDQs_g1QlC8",
        "colab_type": "code",
        "colab": {}
      },
      "source": [
        "#Clear out tensorflow memory\n",
        "tf.keras.backend.clear_session()\n",
        "\n",
        "#Initialize Sequential model\n",
        "model = tf.keras.models.Sequential()\n",
        "\n",
        "#Reshape data from 2D to 1D -> 32X32 to 1024\n",
        "model.add(tf.keras.layers.Reshape((1024,),input_shape=(32,32,)))\n",
        "\n",
        "#Normalize the data\n",
        "model.add(tf.keras.layers.BatchNormalization())"
      ],
      "execution_count": 0,
      "outputs": []
    },
    {
      "cell_type": "markdown",
      "metadata": {
        "id": "kBGwTTilQlDD",
        "colab_type": "text"
      },
      "source": [
        "#### Add fully connected layers with `relu` activations."
      ]
    },
    {
      "cell_type": "code",
      "metadata": {
        "id": "IXbfpfOzQlDF",
        "colab_type": "code",
        "colab": {}
      },
      "source": [
        "#Add 1st hidden layer\n",
        "model.add(tf.keras.layers.Dense(1024,activation='relu'))\n",
        "#model.add(tf.keras.layers.Dropout(0.25))\n",
        "model.add(tf.keras.layers.BatchNormalization())\n",
        "\n",
        "#Add 2nd hidden layer\n",
        "model.add(tf.keras.layers.Dense(512,activation='relu'))\n",
        "model.add(tf.keras.layers.Dropout(0.25))\n",
        "model.add(tf.keras.layers.BatchNormalization())\n",
        "\n",
        "model.add(tf.keras.layers.Dense(512,activation='relu'))\n",
        "model.add(tf.keras.layers.Dropout(0.20))\n",
        "model.add(tf.keras.layers.BatchNormalization())\n",
        "\n",
        "model.add(tf.keras.layers.Dense(300,activation='relu'))\n",
        "model.add(tf.keras.layers.Dropout(0.25))\n",
        "model.add(tf.keras.layers.BatchNormalization())"
      ],
      "execution_count": 0,
      "outputs": []
    },
    {
      "cell_type": "markdown",
      "metadata": {
        "id": "5I8f5otcQlDJ",
        "colab_type": "text"
      },
      "source": [
        "### Add the output layer with a fully connected layer with 10 neurons with `softmax` activation. Use `categorical_crossentropy` loss and `adam` optimizer and train the network. And, report the final validation."
      ]
    },
    {
      "cell_type": "code",
      "metadata": {
        "id": "JZkvKymSd0Sr",
        "colab_type": "code",
        "colab": {}
      },
      "source": [
        "#Add OUTPUT layer\n",
        "from keras import regularizers\n",
        "model.add(tf.keras.layers.Dense(10, activation='softmax',kernel_initializer='lecun_uniform'))\n",
        "model.compile(optimizer='adam', loss='categorical_crossentropy', metrics=['accuracy'])"
      ],
      "execution_count": 0,
      "outputs": []
    },
    {
      "cell_type": "code",
      "metadata": {
        "id": "VABa54KHOtkx",
        "colab_type": "code",
        "outputId": "2f6f7cc2-8cf2-474a-b2b6-d27aaa7dab82",
        "colab": {
          "base_uri": "https://localhost:8080/",
          "height": 629
        }
      },
      "source": [
        "model.summary()"
      ],
      "execution_count": 81,
      "outputs": [
        {
          "output_type": "stream",
          "text": [
            "Model: \"sequential\"\n",
            "_________________________________________________________________\n",
            "Layer (type)                 Output Shape              Param #   \n",
            "=================================================================\n",
            "reshape (Reshape)            (None, 1024)              0         \n",
            "_________________________________________________________________\n",
            "batch_normalization (BatchNo (None, 1024)              4096      \n",
            "_________________________________________________________________\n",
            "dense (Dense)                (None, 1024)              1049600   \n",
            "_________________________________________________________________\n",
            "batch_normalization_1 (Batch (None, 1024)              4096      \n",
            "_________________________________________________________________\n",
            "dense_1 (Dense)              (None, 512)               524800    \n",
            "_________________________________________________________________\n",
            "dropout (Dropout)            (None, 512)               0         \n",
            "_________________________________________________________________\n",
            "batch_normalization_2 (Batch (None, 512)               2048      \n",
            "_________________________________________________________________\n",
            "dense_2 (Dense)              (None, 512)               262656    \n",
            "_________________________________________________________________\n",
            "dropout_1 (Dropout)          (None, 512)               0         \n",
            "_________________________________________________________________\n",
            "batch_normalization_3 (Batch (None, 512)               2048      \n",
            "_________________________________________________________________\n",
            "dense_3 (Dense)              (None, 300)               153900    \n",
            "_________________________________________________________________\n",
            "dropout_2 (Dropout)          (None, 300)               0         \n",
            "_________________________________________________________________\n",
            "batch_normalization_4 (Batch (None, 300)               1200      \n",
            "_________________________________________________________________\n",
            "dense_4 (Dense)              (None, 10)                3010      \n",
            "=================================================================\n",
            "Total params: 2,007,454\n",
            "Trainable params: 2,000,710\n",
            "Non-trainable params: 6,744\n",
            "_________________________________________________________________\n"
          ],
          "name": "stdout"
        }
      ]
    },
    {
      "cell_type": "code",
      "metadata": {
        "id": "tWEKZoMGOxdr",
        "colab_type": "code",
        "outputId": "eee456a9-8604-4f6f-a39f-7cfb14519590",
        "colab": {
          "base_uri": "https://localhost:8080/",
          "height": 731
        }
      },
      "source": [
        "model.fit(trainX,trainY,          \n",
        "          validation_data=(valX,valY),\n",
        "          epochs=20,\n",
        "          batch_size=500)"
      ],
      "execution_count": 82,
      "outputs": [
        {
          "output_type": "stream",
          "text": [
            "Train on 42000 samples, validate on 60000 samples\n",
            "Epoch 1/20\n",
            "42000/42000 [==============================] - 19s 453us/sample - loss: 1.6088 - acc: 0.4550 - val_loss: 1.2811 - val_acc: 0.5925\n",
            "Epoch 2/20\n",
            "42000/42000 [==============================] - 18s 438us/sample - loss: 0.9680 - acc: 0.6908 - val_loss: 0.7842 - val_acc: 0.7535\n",
            "Epoch 3/20\n",
            "42000/42000 [==============================] - 19s 454us/sample - loss: 0.8107 - acc: 0.7425 - val_loss: 0.6820 - val_acc: 0.7845\n",
            "Epoch 4/20\n",
            "42000/42000 [==============================] - 18s 438us/sample - loss: 0.7092 - acc: 0.7759 - val_loss: 0.5915 - val_acc: 0.8149\n",
            "Epoch 5/20\n",
            "42000/42000 [==============================] - 19s 452us/sample - loss: 0.6634 - acc: 0.7902 - val_loss: 0.5635 - val_acc: 0.8221\n",
            "Epoch 6/20\n",
            "42000/42000 [==============================] - 19s 446us/sample - loss: 0.5986 - acc: 0.8102 - val_loss: 0.5413 - val_acc: 0.8309\n",
            "Epoch 7/20\n",
            "42000/42000 [==============================] - 18s 440us/sample - loss: 0.5466 - acc: 0.8248 - val_loss: 0.4808 - val_acc: 0.8510\n",
            "Epoch 8/20\n",
            "42000/42000 [==============================] - 19s 454us/sample - loss: 0.5183 - acc: 0.8357 - val_loss: 0.5000 - val_acc: 0.8432\n",
            "Epoch 9/20\n",
            "42000/42000 [==============================] - 19s 454us/sample - loss: 0.4931 - acc: 0.8423 - val_loss: 0.4417 - val_acc: 0.8628\n",
            "Epoch 10/20\n",
            "42000/42000 [==============================] - 19s 453us/sample - loss: 0.4694 - acc: 0.8512 - val_loss: 0.4192 - val_acc: 0.8703\n",
            "Epoch 11/20\n",
            "42000/42000 [==============================] - 19s 442us/sample - loss: 0.4458 - acc: 0.8568 - val_loss: 0.4271 - val_acc: 0.8647\n",
            "Epoch 12/20\n",
            "42000/42000 [==============================] - 18s 437us/sample - loss: 0.4252 - acc: 0.8627 - val_loss: 0.3843 - val_acc: 0.8809\n",
            "Epoch 13/20\n",
            "42000/42000 [==============================] - 18s 440us/sample - loss: 0.3980 - acc: 0.8726 - val_loss: 0.3756 - val_acc: 0.8828\n",
            "Epoch 14/20\n",
            "42000/42000 [==============================] - 18s 433us/sample - loss: 0.3817 - acc: 0.8766 - val_loss: 0.3493 - val_acc: 0.8936\n",
            "Epoch 15/20\n",
            "42000/42000 [==============================] - 18s 438us/sample - loss: 0.3731 - acc: 0.8786 - val_loss: 0.3736 - val_acc: 0.8849\n",
            "Epoch 16/20\n",
            "42000/42000 [==============================] - 18s 435us/sample - loss: 0.3480 - acc: 0.8887 - val_loss: 0.3440 - val_acc: 0.8943\n",
            "Epoch 17/20\n",
            "42000/42000 [==============================] - 18s 433us/sample - loss: 0.3385 - acc: 0.8908 - val_loss: 0.3455 - val_acc: 0.8952\n",
            "Epoch 18/20\n",
            "42000/42000 [==============================] - 18s 435us/sample - loss: 0.3197 - acc: 0.8969 - val_loss: 0.3080 - val_acc: 0.9077\n",
            "Epoch 19/20\n",
            "42000/42000 [==============================] - 18s 436us/sample - loss: 0.3099 - acc: 0.9005 - val_loss: 0.3254 - val_acc: 0.8993\n",
            "Epoch 20/20\n",
            "42000/42000 [==============================] - 19s 445us/sample - loss: 0.2976 - acc: 0.9016 - val_loss: 0.2956 - val_acc: 0.9127\n"
          ],
          "name": "stdout"
        },
        {
          "output_type": "execute_result",
          "data": {
            "text/plain": [
              "<tensorflow.python.keras.callbacks.History at 0x7fcf87a487f0>"
            ]
          },
          "metadata": {
            "tags": []
          },
          "execution_count": 82
        }
      ]
    },
    {
      "cell_type": "code",
      "metadata": {
        "id": "4SieRafD-MuJ",
        "colab_type": "code",
        "colab": {
          "base_uri": "https://localhost:8080/",
          "height": 51
        },
        "outputId": "39b34216-bcfa-47f5-dce1-dce877a1a09c"
      },
      "source": [
        "model.evaluate(testX, testY, verbose=2)"
      ],
      "execution_count": 83,
      "outputs": [
        {
          "output_type": "stream",
          "text": [
            "18000/18000 - 3s - loss: 0.5163 - acc: 0.8549\n"
          ],
          "name": "stdout"
        },
        {
          "output_type": "execute_result",
          "data": {
            "text/plain": [
              "[0.5162744450966518, 0.8548889]"
            ]
          },
          "metadata": {
            "tags": []
          },
          "execution_count": 83
        }
      ]
    },
    {
      "cell_type": "code",
      "metadata": {
        "id": "MDLU1DFMDmpO",
        "colab_type": "code",
        "colab": {
          "base_uri": "https://localhost:8080/",
          "height": 119
        },
        "outputId": "f7200d65-47bf-4ade-a0f7-299ac47ab0d3"
      },
      "source": [
        "import h5py\n",
        "filename = '/content/drive/My Drive/Colab Notebooks/11-01-2020/SVHN_single_grey1-2.h5'\n",
        "h5 = h5py.File(filename,'r')\n",
        "ls = list(h5)\n",
        "\n",
        "train_X = h5['X_train'][:]\n",
        "train_Y = h5['y_train'][:]\n",
        "test_X = h5['X_test'][:]\n",
        "test_Y = h5['y_test'][:]\n",
        "val_X = h5['X_val'][:]\n",
        "val_Y = h5['y_val'][:]\n",
        "print(\"Shape of trainX: \",train_X.shape)\n",
        "print(\"Shape of trainY: \",train_Y.shape)\n",
        "print(\"Shape of testX: \",test_X.shape)\n",
        "print(\"Shape of testY: \",test_Y.shape)\n",
        "print(\"Shape of valX: \",val_X.shape)\n",
        "print(\"Shape of valY: \",val_Y.shape)\n"
      ],
      "execution_count": 249,
      "outputs": [
        {
          "output_type": "stream",
          "text": [
            "Shape of trainX:  (42000, 32, 32)\n",
            "Shape of trainY:  (42000,)\n",
            "Shape of testX:  (18000, 32, 32)\n",
            "Shape of testY:  (18000,)\n",
            "Shape of valX:  (60000, 32, 32)\n",
            "Shape of valY:  (60000,)\n"
          ],
          "name": "stdout"
        }
      ]
    },
    {
      "cell_type": "code",
      "metadata": {
        "id": "MDLI_y7MNN24",
        "colab_type": "code",
        "colab": {
          "base_uri": "https://localhost:8080/",
          "height": 51
        },
        "outputId": "1978938d-5d3f-41b8-cdc0-93fa6a2e9196"
      },
      "source": [
        "train_X = train_X.reshape(42000,1024).astype('float32')\n",
        "test_X = test_X.reshape(18000,1024).astype('float32')\n",
        "val_X = val_X.reshape(60000,1024).astype('float32')\n",
        "train_X /=255\n",
        "test_X /=255\n",
        "\n",
        "print(\"Shape of trainX: \",train_X.shape)\n",
        "print(\"Shape of testX: \",test_X.shape)"
      ],
      "execution_count": 250,
      "outputs": [
        {
          "output_type": "stream",
          "text": [
            "Shape of trainX:  (42000, 1024)\n",
            "Shape of testX:  (18000, 1024)\n"
          ],
          "name": "stdout"
        }
      ]
    },
    {
      "cell_type": "code",
      "metadata": {
        "id": "m6R83i11Ozi0",
        "colab_type": "code",
        "colab": {
          "base_uri": "https://localhost:8080/",
          "height": 68
        },
        "outputId": "35135ea3-99b4-463a-efea-59c243b61578"
      },
      "source": [
        "train_Y = tf.keras.utils.to_categorical(train_Y, num_classes=10)\n",
        "test_Y = tf.keras.utils.to_categorical(test_Y, num_classes=10)\n",
        "val_Y = tf.keras.utils.to_categorical(val_Y, num_classes=10)\n",
        "\n",
        "\n",
        "print(\"Shape of trainY: \",train_Y.shape)\n",
        "\n",
        "print(\"Shape of testY: \",test_Y.shape)\n",
        "\n",
        "print(\"Shape of valY: \",val_Y.shape)\n"
      ],
      "execution_count": 251,
      "outputs": [
        {
          "output_type": "stream",
          "text": [
            "Shape of trainY:  (42000, 10)\n",
            "Shape of testY:  (18000, 10)\n",
            "Shape of valY:  (60000, 10)\n"
          ],
          "name": "stdout"
        }
      ]
    },
    {
      "cell_type": "code",
      "metadata": {
        "id": "O-_CPZkqPEj6",
        "colab_type": "code",
        "colab": {}
      },
      "source": [
        "epochs=20\n",
        "learning_rate = 0.3\n",
        "decay_rate = learning_rate / epochs\n",
        "momentum = 0.9\n",
        "\n",
        "model1 = tf.keras.models.Sequential()\n",
        "model1.add(tf.keras.layers.Dense(1024,input_shape=(1024,), kernel_initializer='he_normal'))\n",
        "model1.add(tf.keras.layers.Activation('relu'))\n",
        "model1.add(tf.keras.layers.Dropout(0.25))\n",
        "model1.add(tf.keras.layers.BatchNormalization())\n",
        "\n",
        "model1.add(tf.keras.layers.Dense(500, kernel_initializer='he_normal',bias_initializer='he_uniform'))\n",
        "model1.add(tf.keras.layers.Activation('relu'))\n",
        "model1.add(tf.keras.layers.Dropout(0.1))\n",
        "model1.add(tf.keras.layers.BatchNormalization())\n",
        "\n",
        "model1.add(tf.keras.layers.Dense(200, kernel_initializer='he_normal',bias_initializer='he_uniform'))\n",
        "model1.add(tf.keras.layers.Activation('relu'))\n",
        "model1.add(tf.keras.layers.Dropout(0.20))\n",
        "model1.add(tf.keras.layers.BatchNormalization())\n",
        "\n",
        "model1.add(tf.keras.layers.Dense(10, activation='softmax', kernel_initializer='he_normal',bias_initializer='he_uniform'))\n",
        "\n",
        "#sgd = tf.keras.optimizers.SGD(learning_rate=learning_rate,decay=decay_rate,momentum=momentum,nesterov=False)\n",
        "sgd = tf.keras.optimizers.Adam(learning_rate=0.01)\n",
        "model1.compile(optimizer=sgd, loss='categorical_crossentropy', metrics=['accuracy'])\n"
      ],
      "execution_count": 0,
      "outputs": []
    },
    {
      "cell_type": "code",
      "metadata": {
        "id": "fYVTbPsJQGwL",
        "colab_type": "code",
        "colab": {
          "base_uri": "https://localhost:8080/",
          "height": 595
        },
        "outputId": "7fe1c8e3-7281-4d26-fbbe-f8251bfc248e"
      },
      "source": [
        "model1.summary()"
      ],
      "execution_count": 253,
      "outputs": [
        {
          "output_type": "stream",
          "text": [
            "Model: \"sequential_23\"\n",
            "_________________________________________________________________\n",
            "Layer (type)                 Output Shape              Param #   \n",
            "=================================================================\n",
            "dense_93 (Dense)             (None, 1024)              1049600   \n",
            "_________________________________________________________________\n",
            "activation_55 (Activation)   (None, 1024)              0         \n",
            "_________________________________________________________________\n",
            "dropout_66 (Dropout)         (None, 1024)              0         \n",
            "_________________________________________________________________\n",
            "batch_normalization_38 (Batc (None, 1024)              4096      \n",
            "_________________________________________________________________\n",
            "dense_94 (Dense)             (None, 500)               512500    \n",
            "_________________________________________________________________\n",
            "activation_56 (Activation)   (None, 500)               0         \n",
            "_________________________________________________________________\n",
            "dropout_67 (Dropout)         (None, 500)               0         \n",
            "_________________________________________________________________\n",
            "batch_normalization_39 (Batc (None, 500)               2000      \n",
            "_________________________________________________________________\n",
            "dense_95 (Dense)             (None, 200)               100200    \n",
            "_________________________________________________________________\n",
            "activation_57 (Activation)   (None, 200)               0         \n",
            "_________________________________________________________________\n",
            "dropout_68 (Dropout)         (None, 200)               0         \n",
            "_________________________________________________________________\n",
            "batch_normalization_40 (Batc (None, 200)               800       \n",
            "_________________________________________________________________\n",
            "dense_96 (Dense)             (None, 10)                2010      \n",
            "=================================================================\n",
            "Total params: 1,671,206\n",
            "Trainable params: 1,667,758\n",
            "Non-trainable params: 3,448\n",
            "_________________________________________________________________\n"
          ],
          "name": "stdout"
        }
      ]
    },
    {
      "cell_type": "code",
      "metadata": {
        "id": "PxAoIPpsQMN4",
        "colab_type": "code",
        "colab": {
          "base_uri": "https://localhost:8080/",
          "height": 731
        },
        "outputId": "da14964e-0efd-4d63-c5cb-2f418c9d88bb"
      },
      "source": [
        "model1.fit(train_X,train_Y,          \n",
        "          validation_data=(val_X,val_Y),\n",
        "          epochs=epochs,\n",
        "          batch_size=300,verbose=1)"
      ],
      "execution_count": 254,
      "outputs": [
        {
          "output_type": "stream",
          "text": [
            "Train on 42000 samples, validate on 60000 samples\n",
            "Epoch 1/20\n",
            "42000/42000 [==============================] - 16s 390us/sample - loss: 2.2190 - acc: 0.1961 - val_loss: 378.8687 - val_acc: 0.1863\n",
            "Epoch 2/20\n",
            "42000/42000 [==============================] - 15s 359us/sample - loss: 1.5835 - acc: 0.4426 - val_loss: 122.8559 - val_acc: 0.3142\n",
            "Epoch 3/20\n",
            "42000/42000 [==============================] - 15s 353us/sample - loss: 1.3772 - acc: 0.5393 - val_loss: 45.7572 - val_acc: 0.5324\n",
            "Epoch 4/20\n",
            "42000/42000 [==============================] - 15s 355us/sample - loss: 1.2898 - acc: 0.5753 - val_loss: 32.5040 - val_acc: 0.5900\n",
            "Epoch 5/20\n",
            "42000/42000 [==============================] - 15s 356us/sample - loss: 1.2397 - acc: 0.5963 - val_loss: 44.7080 - val_acc: 0.5944\n",
            "Epoch 6/20\n",
            "42000/42000 [==============================] - 15s 352us/sample - loss: 1.2069 - acc: 0.6051 - val_loss: 54.5896 - val_acc: 0.5821\n",
            "Epoch 7/20\n",
            "42000/42000 [==============================] - 15s 352us/sample - loss: 1.1739 - acc: 0.6177 - val_loss: 40.9698 - val_acc: 0.6819\n",
            "Epoch 8/20\n",
            "42000/42000 [==============================] - 15s 355us/sample - loss: 1.1175 - acc: 0.6386 - val_loss: 44.2645 - val_acc: 0.6657\n",
            "Epoch 9/20\n",
            "42000/42000 [==============================] - 15s 355us/sample - loss: 1.0971 - acc: 0.6478 - val_loss: 30.8827 - val_acc: 0.6739\n",
            "Epoch 10/20\n",
            "42000/42000 [==============================] - 15s 352us/sample - loss: 1.0624 - acc: 0.6593 - val_loss: 38.0299 - val_acc: 0.6661\n",
            "Epoch 11/20\n",
            "42000/42000 [==============================] - 15s 352us/sample - loss: 1.0483 - acc: 0.6632 - val_loss: 25.4592 - val_acc: 0.6628\n",
            "Epoch 12/20\n",
            "42000/42000 [==============================] - 15s 363us/sample - loss: 1.0446 - acc: 0.6627 - val_loss: 24.7386 - val_acc: 0.7044\n",
            "Epoch 13/20\n",
            "42000/42000 [==============================] - 15s 356us/sample - loss: 1.0281 - acc: 0.6691 - val_loss: 34.7249 - val_acc: 0.6752\n",
            "Epoch 14/20\n",
            "42000/42000 [==============================] - 15s 356us/sample - loss: 1.0069 - acc: 0.6779 - val_loss: 23.7907 - val_acc: 0.7257\n",
            "Epoch 15/20\n",
            "42000/42000 [==============================] - 15s 353us/sample - loss: 1.0005 - acc: 0.6825 - val_loss: 21.7277 - val_acc: 0.7132\n",
            "Epoch 16/20\n",
            "42000/42000 [==============================] - 15s 356us/sample - loss: 0.9838 - acc: 0.6849 - val_loss: 28.3229 - val_acc: 0.6962\n",
            "Epoch 17/20\n",
            "42000/42000 [==============================] - 15s 357us/sample - loss: 0.9639 - acc: 0.6913 - val_loss: 28.1816 - val_acc: 0.7153\n",
            "Epoch 18/20\n",
            "42000/42000 [==============================] - 15s 352us/sample - loss: 0.9519 - acc: 0.6953 - val_loss: 27.6006 - val_acc: 0.7383\n",
            "Epoch 19/20\n",
            "42000/42000 [==============================] - 15s 354us/sample - loss: 0.9337 - acc: 0.7009 - val_loss: 28.5150 - val_acc: 0.7163\n",
            "Epoch 20/20\n",
            "42000/42000 [==============================] - 15s 355us/sample - loss: 0.9152 - acc: 0.7090 - val_loss: 32.6086 - val_acc: 0.7167\n"
          ],
          "name": "stdout"
        },
        {
          "output_type": "execute_result",
          "data": {
            "text/plain": [
              "<tensorflow.python.keras.callbacks.History at 0x7fcf7eff8668>"
            ]
          },
          "metadata": {
            "tags": []
          },
          "execution_count": 254
        }
      ]
    },
    {
      "cell_type": "code",
      "metadata": {
        "id": "LRj7b0mzRTva",
        "colab_type": "code",
        "colab": {
          "base_uri": "https://localhost:8080/",
          "height": 51
        },
        "outputId": "6172fef7-280f-49fd-c257-8a1c4d7fc99a"
      },
      "source": [
        "model1.evaluate(test_X, test_Y, verbose=1)"
      ],
      "execution_count": 255,
      "outputs": [
        {
          "output_type": "stream",
          "text": [
            "18000/18000 [==============================] - 3s 193us/sample - loss: 0.8330 - acc: 0.7444\n"
          ],
          "name": "stdout"
        },
        {
          "output_type": "execute_result",
          "data": {
            "text/plain": [
              "[0.8330468033949534, 0.7443889]"
            ]
          },
          "metadata": {
            "tags": []
          },
          "execution_count": 255
        }
      ]
    },
    {
      "cell_type": "code",
      "metadata": {
        "id": "CRBThNc0X-JC",
        "colab_type": "code",
        "colab": {
          "base_uri": "https://localhost:8080/",
          "height": 283
        },
        "outputId": "e495ab8c-2485-4e94-fd85-d2a1ad8e5f22"
      },
      "source": [
        "import matplotlib.pyplot as plt\n",
        "#To enable plotting graphs in Jupyter notebook\n",
        "%matplotlib inline\n",
        "\n",
        "plt.imshow(test_X[4455].reshape(32,32),cmap='gray')"
      ],
      "execution_count": 261,
      "outputs": [
        {
          "output_type": "execute_result",
          "data": {
            "text/plain": [
              "<matplotlib.image.AxesImage at 0x7fcf7b1c27b8>"
            ]
          },
          "metadata": {
            "tags": []
          },
          "execution_count": 261
        },
        {
          "output_type": "display_data",
          "data": {
            "image/png": "[encoded data removed]",
            "text/plain": [
              "<Figure size 432x288 with 1 Axes>"
            ]
          },
          "metadata": {
            "tags": []
          }
        }
      ]
    },
    {
      "cell_type": "code",
      "metadata": {
        "id": "I4VyZ6aY7T3s",
        "colab_type": "code",
        "colab": {
          "base_uri": "https://localhost:8080/",
          "height": 34
        },
        "outputId": "e44f4156-93db-4591-97ea-9c2866ce07bb"
      },
      "source": [
        "model1.predict_classes(test_X)[4455]"
      ],
      "execution_count": 262,
      "outputs": [
        {
          "output_type": "execute_result",
          "data": {
            "text/plain": [
              "8"
            ]
          },
          "metadata": {
            "tags": []
          },
          "execution_count": 262
        }
      ]
    },
    {
      "cell_type": "code",
      "metadata": {
        "id": "wyLsbLNq7ZRW",
        "colab_type": "code",
        "colab": {}
      },
      "source": [
        ""
      ],
      "execution_count": 0,
      "outputs": []
    }
  ]
}